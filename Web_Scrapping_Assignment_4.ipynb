{
 "cells": [
  {
   "cell_type": "code",
   "execution_count": 1,
   "id": "7bd368a6",
   "metadata": {},
   "outputs": [
    {
     "name": "stdout",
     "output_type": "stream",
     "text": [
      "Requirement already satisfied: bs4 in c:\\users\\admin\\anaconda3\\lib\\site-packages (0.0.1)\n",
      "Requirement already satisfied: beautifulsoup4 in c:\\users\\admin\\anaconda3\\lib\\site-packages (from bs4) (4.11.1)\n",
      "Requirement already satisfied: soupsieve>1.2 in c:\\users\\admin\\anaconda3\\lib\\site-packages (from beautifulsoup4->bs4) (2.3.1)\n",
      "Requirement already satisfied: requests in c:\\users\\admin\\anaconda3\\lib\\site-packages (2.28.1)\n",
      "Requirement already satisfied: charset-normalizer<3,>=2 in c:\\users\\admin\\anaconda3\\lib\\site-packages (from requests) (2.0.4)\n",
      "Requirement already satisfied: urllib3<1.27,>=1.21.1 in c:\\users\\admin\\anaconda3\\lib\\site-packages (from requests) (1.26.11)\n",
      "Requirement already satisfied: idna<4,>=2.5 in c:\\users\\admin\\anaconda3\\lib\\site-packages (from requests) (3.3)\n",
      "Requirement already satisfied: certifi>=2017.4.17 in c:\\users\\admin\\anaconda3\\lib\\site-packages (from requests) (2022.9.14)\n",
      "Requirement already satisfied: selenium in c:\\users\\admin\\anaconda3\\lib\\site-packages (4.9.1)\n",
      "Requirement already satisfied: trio~=0.17 in c:\\users\\admin\\anaconda3\\lib\\site-packages (from selenium) (0.22.0)\n",
      "Requirement already satisfied: urllib3[socks]<3,>=1.26 in c:\\users\\admin\\anaconda3\\lib\\site-packages (from selenium) (1.26.11)\n",
      "Requirement already satisfied: certifi>=2021.10.8 in c:\\users\\admin\\anaconda3\\lib\\site-packages (from selenium) (2022.9.14)\n",
      "Requirement already satisfied: trio-websocket~=0.9 in c:\\users\\admin\\anaconda3\\lib\\site-packages (from selenium) (0.10.2)\n",
      "Requirement already satisfied: sortedcontainers in c:\\users\\admin\\anaconda3\\lib\\site-packages (from trio~=0.17->selenium) (2.4.0)\n",
      "Requirement already satisfied: sniffio in c:\\users\\admin\\anaconda3\\lib\\site-packages (from trio~=0.17->selenium) (1.2.0)\n",
      "Requirement already satisfied: exceptiongroup>=1.0.0rc9 in c:\\users\\admin\\anaconda3\\lib\\site-packages (from trio~=0.17->selenium) (1.1.1)\n",
      "Requirement already satisfied: attrs>=19.2.0 in c:\\users\\admin\\anaconda3\\lib\\site-packages (from trio~=0.17->selenium) (21.4.0)\n",
      "Requirement already satisfied: outcome in c:\\users\\admin\\anaconda3\\lib\\site-packages (from trio~=0.17->selenium) (1.2.0)\n",
      "Requirement already satisfied: async-generator>=1.9 in c:\\users\\admin\\anaconda3\\lib\\site-packages (from trio~=0.17->selenium) (1.10)\n",
      "Requirement already satisfied: cffi>=1.14 in c:\\users\\admin\\anaconda3\\lib\\site-packages (from trio~=0.17->selenium) (1.15.1)\n",
      "Requirement already satisfied: idna in c:\\users\\admin\\anaconda3\\lib\\site-packages (from trio~=0.17->selenium) (3.3)\n",
      "Requirement already satisfied: wsproto>=0.14 in c:\\users\\admin\\anaconda3\\lib\\site-packages (from trio-websocket~=0.9->selenium) (1.2.0)\n",
      "Requirement already satisfied: PySocks!=1.5.7,<2.0,>=1.5.6 in c:\\users\\admin\\anaconda3\\lib\\site-packages (from urllib3[socks]<3,>=1.26->selenium) (1.7.1)\n",
      "Requirement already satisfied: pycparser in c:\\users\\admin\\anaconda3\\lib\\site-packages (from cffi>=1.14->trio~=0.17->selenium) (2.21)\n",
      "Requirement already satisfied: h11<1,>=0.9.0 in c:\\users\\admin\\anaconda3\\lib\\site-packages (from wsproto>=0.14->trio-websocket~=0.9->selenium) (0.14.0)\n"
     ]
    }
   ],
   "source": [
    "!pip install bs4\n",
    "!pip install requests\n",
    "!pip install selenium"
   ]
  },
  {
   "cell_type": "code",
   "execution_count": 2,
   "id": "8869ac96",
   "metadata": {},
   "outputs": [],
   "source": [
    "from bs4 import BeautifulSoup\n",
    "import requests\n",
    "import selenium\n",
    "import pandas as pd\n",
    "from selenium import webdriver\n",
    "import warnings\n",
    "warnings.filterwarnings('ignore')\n",
    "from selenium.webdriver.common.by import By\n",
    "import time\n",
    "from selenium.common.exceptions import NoSuchElementException"
   ]
  },
  {
   "cell_type": "code",
   "execution_count": 3,
   "id": "cd129c94",
   "metadata": {},
   "outputs": [],
   "source": [
    "driver=webdriver.Chrome(r\"chromedriver.exe\")\n",
    "driver.get(\"https://en.wikipedia.org/wiki/List_of_most-viewed_YouTube_videos\")\n",
    "time.sleep(3)"
   ]
  },
  {
   "cell_type": "code",
   "execution_count": 4,
   "id": "81463b45",
   "metadata": {},
   "outputs": [],
   "source": [
    "Table=[]\n",
    "table_tags=driver.find_elements(By.XPATH,'/html/body/div[2]/div/div[3]/main/div[3]/div[3]/div[1]/table[2]/tbody')\n",
    "for i in table_tags[0:100]:\n",
    "    table=i.text\n",
    "    Table.append(table)"
   ]
  },
  {
   "cell_type": "code",
   "execution_count": 5,
   "id": "1ee5afcd",
   "metadata": {},
   "outputs": [
    {
     "data": {
      "text/plain": [
       "['1. \"Baby Shark Dance\"[4] Pinkfong Baby Shark - Kids\\' Songs & Stories 12.85 June 17, 2016 [A]\\n2. \"Despacito\"[7] Luis Fonsi 8.16 January 12, 2017 [B]\\n3. \"Johny Johny Yes Papa\"[14] LooLoo Kids 6.70 October 8, 2016\\n4. \"Bath Song\"[15] Cocomelon – Nursery Rhymes 6.20 May 2, 2018\\n5. \"Shape of You\"[16] Ed Sheeran 6.00 January 30, 2017 [C]\\n6. \"See You Again\"[19] Wiz Khalifa 5.89 April 6, 2015 [D]\\n7. \"Phonics Song with Two Words\"[24] ChuChu TV 5.30 March 6, 2014\\n8. \"Wheels on the Bus\"[25] Cocomelon – Nursery Rhymes 5.24 May 24, 2018\\n9. \"Uptown Funk\"[26] Mark Ronson 4.92 November 19, 2014\\n10. \"Learning Colors – Colorful Eggs on a Farm\"[27] Miroshka TV 4.89 February 27, 2018\\n11. \"Gangnam Style\"[28] Psy 4.80 July 15, 2012 [E]\\n12. \"Masha and the Bear – Recipe for Disaster\"[33] Get Movies 4.55 January 31, 2012\\n13. \"Dame Tu Cosita\"[34] El Chombo 4.35 April 5, 2018\\n14. \"Axel F\"[35] Crazy Frog 3.91 June 16, 2009\\n15. \"Sugar\"[36] Maroon 5 3.87 January 14, 2015\\n16. \"Roar\"[37] Katy Perry 3.80 September 5, 2013\\n17. \"Counting Stars\"[38] OneRepublic 3.79 May 31, 2013\\n18. \"Sorry\"[39] Justin Bieber 3.66 October 22, 2015\\n19. \"Baa Baa Black Sheep\"[40] Cocomelon – Nursery Rhymes 3.64 June 25, 2018\\n20. \"Thinking Out Loud\"[41] Ed Sheeran 3.60 October 7, 2014\\n21. \"Waka Waka (This Time for Africa)\"[42] Shakira 3.59 June 4, 2010\\n22. \"Dark Horse\"[43] Katy Perry 3.52 February 20, 2014\\n23. \"Lakdi Ki Kathi\"[44] Jingle Toons 3.48 June 14, 2018\\n24. \"Faded\"[45] Alan Walker 3.45 December 3, 2015\\n25. \"Perfect\"[46] Ed Sheeran 3.45 November 9, 2017\\n26. \"Let Her Go\"[47] Passenger 3.44 July 25, 2012\\n27. \"Girls Like You\"[48] Maroon 5 3.42 May 31, 2018\\n28. \"Humpty the train on a fruits ride\"[49] Kiddiestv Hindi – Nursery Rhymes & Kids Songs 3.41 January 26, 2018\\n29. \"Lean On\"[50] Major Lazer 3.38 March 22, 2015\\n30. \"Bailando\"[51] Enrique Iglesias 3.38 April 11, 2014']"
      ]
     },
     "execution_count": 5,
     "metadata": {},
     "output_type": "execute_result"
    }
   ],
   "source": [
    "Table"
   ]
  },
  {
   "cell_type": "code",
   "execution_count": 10,
   "id": "6e6c7fcf",
   "metadata": {},
   "outputs": [
    {
     "ename": "AttributeError",
     "evalue": "'list' object has no attribute 'split'",
     "output_type": "error",
     "traceback": [
      "\u001b[1;31m---------------------------------------------------------------------------\u001b[0m",
      "\u001b[1;31mAttributeError\u001b[0m                            Traceback (most recent call last)",
      "\u001b[1;32m~\\AppData\\Local\\Temp\\ipykernel_17680\\2696271233.py\u001b[0m in \u001b[0;36m<module>\u001b[1;34m\u001b[0m\n\u001b[1;32m----> 1\u001b[1;33m \u001b[0mlines\u001b[0m\u001b[1;33m=\u001b[0m\u001b[0mTable\u001b[0m\u001b[1;33m.\u001b[0m\u001b[0msplit\u001b[0m\u001b[1;33m(\u001b[0m\u001b[1;34m\"/n\"\u001b[0m\u001b[1;33m)\u001b[0m\u001b[1;33m\u001b[0m\u001b[1;33m\u001b[0m\u001b[0m\n\u001b[0m",
      "\u001b[1;31mAttributeError\u001b[0m: 'list' object has no attribute 'split'"
     ]
    }
   ],
   "source": [
    "lines=Table.split(\"/n\")"
   ]
  },
  {
   "cell_type": "markdown",
   "id": "9178575f",
   "metadata": {},
   "source": [
    "# Q2"
   ]
  },
  {
   "cell_type": "code",
   "execution_count": 4,
   "id": "de8bbabc",
   "metadata": {},
   "outputs": [],
   "source": [
    "driver=webdriver.Chrome(r\"chromedriver.exe\")\n",
    "driver.get(\"https://www.bcci.tv/\")\n",
    "time.sleep(3)"
   ]
  },
  {
   "cell_type": "code",
   "execution_count": 5,
   "id": "98a68405",
   "metadata": {},
   "outputs": [],
   "source": [
    "Search=driver.find_element(By.XPATH,\"/html/body/nav/div[1]/div[2]/ul[1]/li[2]/a\")\n",
    "Search.click()\n",
    "time.sleep(3)"
   ]
  },
  {
   "cell_type": "code",
   "execution_count": 6,
   "id": "d0ae0214",
   "metadata": {},
   "outputs": [],
   "source": [
    "Search=driver.find_element(By.XPATH,\"/html/body/div[2]/div[2]/div/div/div/div[2]/div[2]/div/div[4]/div\")\n",
    "Search.click()\n",
    "time.sleep(3)"
   ]
  },
  {
   "cell_type": "code",
   "execution_count": 8,
   "id": "0e1b54ce",
   "metadata": {},
   "outputs": [],
   "source": [
    "Teams=driver.find_element(By.XPATH,\"/html/body/div[2]/div[2]/div/div/div/div[2]/div[2]/div/div[4]/div/div[2]/div[1]/input\")\n",
    "Teams.send_keys('India')\n",
    "\n"
   ]
  },
  {
   "cell_type": "code",
   "execution_count": 11,
   "id": "c97f018e",
   "metadata": {},
   "outputs": [],
   "source": [
    "Teamclick=driver.find_element(By.XPATH,\"/html/body/div[2]/div[2]/div/div/div/div[2]/div[2]/div/div[4]/div/div[2]/div[3]\")\n",
    "Teamclick.click()\n",
    "\n"
   ]
  },
  {
   "cell_type": "code",
   "execution_count": 12,
   "id": "22fc1a48",
   "metadata": {},
   "outputs": [],
   "source": [
    "Match_title=[]\n",
    "Series=[]\n",
    "Place=[]\n",
    "Date=[]\n",
    "Time=[]"
   ]
  },
  {
   "cell_type": "code",
   "execution_count": 13,
   "id": "4bf2c8ae",
   "metadata": {},
   "outputs": [],
   "source": [
    "title_tags=driver.find_elements(By.XPATH,'//span[@class=\"matchOrderText ng-binding ng-scope\"]')\n",
    "for i in title_tags[0:10]:\n",
    "    title=i.text\n",
    "    Match_title.append(title)\n",
    "Serie_tags=driver.find_elements(By.XPATH,'//h5[@class=\"match-tournament-name ng-binding\"]')\n",
    "for i in Serie_tags[0:10]:\n",
    "    Serie=i.text\n",
    "    Series.append(Serie)\n",
    "PLACE_tags=driver.find_elements(By.XPATH,'//span[@class=\"ng-binding ng-scope\"]')\n",
    "for i in PLACE_tags[0:10]:\n",
    "    PLACE=i.text\n",
    "    Place.append(PLACE)\n",
    "date_tags=driver.find_elements(By.XPATH,'//div[@class=\"match-dates ng-binding\"]')\n",
    "for i in date_tags[0:10]:\n",
    "    date=i.text\n",
    "    Date.append(date)\n",
    "time_tags=driver.find_elements(By.XPATH,'//div[@class=\"match-time no-margin ng-binding\"]')\n",
    "for i in time_tags[0:10]:\n",
    "    time=i.text\n",
    "    Time.append(time)"
   ]
  },
  {
   "cell_type": "code",
   "execution_count": 14,
   "id": "7d7f631e",
   "metadata": {},
   "outputs": [
    {
     "data": {
      "text/html": [
       "<div>\n",
       "<style scoped>\n",
       "    .dataframe tbody tr th:only-of-type {\n",
       "        vertical-align: middle;\n",
       "    }\n",
       "\n",
       "    .dataframe tbody tr th {\n",
       "        vertical-align: top;\n",
       "    }\n",
       "\n",
       "    .dataframe thead th {\n",
       "        text-align: right;\n",
       "    }\n",
       "</style>\n",
       "<table border=\"1\" class=\"dataframe\">\n",
       "  <thead>\n",
       "    <tr style=\"text-align: right;\">\n",
       "      <th></th>\n",
       "      <th>Match Title</th>\n",
       "      <th>Series</th>\n",
       "      <th>Place</th>\n",
       "      <th>Date</th>\n",
       "      <th>Time</th>\n",
       "    </tr>\n",
       "  </thead>\n",
       "  <tbody>\n",
       "    <tr>\n",
       "      <th>0</th>\n",
       "      <td>1st Test -</td>\n",
       "      <td>INDIA TOUR OF WEST INDIES 2023</td>\n",
       "      <td>Windsor Park,</td>\n",
       "      <td>12 JUL 2023</td>\n",
       "      <td>7:30 PM IST</td>\n",
       "    </tr>\n",
       "    <tr>\n",
       "      <th>1</th>\n",
       "      <td>2nd Test -</td>\n",
       "      <td>INDIA TOUR OF WEST INDIES 2023</td>\n",
       "      <td>Queen's Park Oval,</td>\n",
       "      <td>20 JUL 2023</td>\n",
       "      <td>7:30 PM IST</td>\n",
       "    </tr>\n",
       "    <tr>\n",
       "      <th>2</th>\n",
       "      <td>1st ODI -</td>\n",
       "      <td>INDIA TOUR OF WEST INDIES 2023</td>\n",
       "      <td>Kensington Oval,</td>\n",
       "      <td>27 JUL 2023</td>\n",
       "      <td>7:00 PM IST</td>\n",
       "    </tr>\n",
       "    <tr>\n",
       "      <th>3</th>\n",
       "      <td>2nd ODI -</td>\n",
       "      <td>INDIA TOUR OF WEST INDIES 2023</td>\n",
       "      <td>Kensington Oval,</td>\n",
       "      <td>29 JUL 2023</td>\n",
       "      <td>7:00 PM IST</td>\n",
       "    </tr>\n",
       "    <tr>\n",
       "      <th>4</th>\n",
       "      <td>3rd ODI -</td>\n",
       "      <td>INDIA TOUR OF WEST INDIES 2023</td>\n",
       "      <td>Brian Lara Stadium,</td>\n",
       "      <td>1 AUG 2023</td>\n",
       "      <td>7:00 PM IST</td>\n",
       "    </tr>\n",
       "    <tr>\n",
       "      <th>5</th>\n",
       "      <td>1st T20I -</td>\n",
       "      <td>INDIA TOUR OF WEST INDIES 2023</td>\n",
       "      <td>Brian Lara Stadium,</td>\n",
       "      <td>3 AUG 2023</td>\n",
       "      <td>8:00 PM IST</td>\n",
       "    </tr>\n",
       "    <tr>\n",
       "      <th>6</th>\n",
       "      <td>2nd T20I -</td>\n",
       "      <td>INDIA TOUR OF WEST INDIES 2023</td>\n",
       "      <td>National Stadium,</td>\n",
       "      <td>6 AUG 2023</td>\n",
       "      <td>8:00 PM IST</td>\n",
       "    </tr>\n",
       "    <tr>\n",
       "      <th>7</th>\n",
       "      <td>3rd T20I -</td>\n",
       "      <td>INDIA TOUR OF WEST INDIES 2023</td>\n",
       "      <td>National Stadium,</td>\n",
       "      <td>8 AUG 2023</td>\n",
       "      <td>8:00 PM IST</td>\n",
       "    </tr>\n",
       "  </tbody>\n",
       "</table>\n",
       "</div>"
      ],
      "text/plain": [
       "  Match Title                          Series                Place  \\\n",
       "0  1st Test -  INDIA TOUR OF WEST INDIES 2023        Windsor Park,   \n",
       "1  2nd Test -  INDIA TOUR OF WEST INDIES 2023   Queen's Park Oval,   \n",
       "2   1st ODI -  INDIA TOUR OF WEST INDIES 2023     Kensington Oval,   \n",
       "3   2nd ODI -  INDIA TOUR OF WEST INDIES 2023     Kensington Oval,   \n",
       "4   3rd ODI -  INDIA TOUR OF WEST INDIES 2023  Brian Lara Stadium,   \n",
       "5  1st T20I -  INDIA TOUR OF WEST INDIES 2023  Brian Lara Stadium,   \n",
       "6  2nd T20I -  INDIA TOUR OF WEST INDIES 2023    National Stadium,   \n",
       "7  3rd T20I -  INDIA TOUR OF WEST INDIES 2023    National Stadium,   \n",
       "\n",
       "          Date         Time  \n",
       "0  12 JUL 2023  7:30 PM IST  \n",
       "1  20 JUL 2023  7:30 PM IST  \n",
       "2  27 JUL 2023  7:00 PM IST  \n",
       "3  29 JUL 2023  7:00 PM IST  \n",
       "4   1 AUG 2023  7:00 PM IST  \n",
       "5   3 AUG 2023  8:00 PM IST  \n",
       "6   6 AUG 2023  8:00 PM IST  \n",
       "7   8 AUG 2023  8:00 PM IST  "
      ]
     },
     "execution_count": 14,
     "metadata": {},
     "output_type": "execute_result"
    }
   ],
   "source": [
    "import pandas as pd\n",
    "df2=pd.DataFrame({'Match Title':Match_title[0:10],'Series':Series[0:10],'Place':Place[0:10],'Date':Date[0:10],'Time':Time[0:10]})\n",
    "df2"
   ]
  },
  {
   "cell_type": "markdown",
   "id": "a7092dcd",
   "metadata": {},
   "source": [
    "# Q3"
   ]
  },
  {
   "cell_type": "code",
   "execution_count": 26,
   "id": "e3bc77b4",
   "metadata": {},
   "outputs": [],
   "source": [
    "driver=webdriver.Chrome(r\"chromedriver.exe\")\n",
    "driver.get(\"https://www.statisticstimes.com/\")\n"
   ]
  },
  {
   "cell_type": "code",
   "execution_count": 27,
   "id": "4a474422",
   "metadata": {},
   "outputs": [],
   "source": [
    "Search=driver.find_element(By.XPATH,\"/html/body/div[2]/div[1]/div[2]/div[2]/button\")\n",
    "Search.click()\n"
   ]
  },
  {
   "cell_type": "code",
   "execution_count": 34,
   "id": "a370143f",
   "metadata": {},
   "outputs": [],
   "source": [
    "from selenium.common.exceptions import ElementNotInteractableException"
   ]
  },
  {
   "cell_type": "code",
   "execution_count": 41,
   "id": "7df84556",
   "metadata": {
    "scrolled": true
   },
   "outputs": [],
   "source": [
    "try:\n",
    "    Country = driver.find_element(By.XPATH,'//div[@class=\"navbar\"]/div[2]/button/i') \n",
    "    Country.click()\n",
    "except ElementNotInteractableException: \n",
    "    print(\"The element is not currently interactable.\")"
   ]
  },
  {
   "cell_type": "code",
   "execution_count": 42,
   "id": "d7400a99",
   "metadata": {},
   "outputs": [],
   "source": [
    "try:\n",
    "    Countrylink = driver.find_element(By.XPATH,'/html/body/div[2]/div[1]/div[2]/div[2]/div/a[3]') \n",
    "    Countrylink.click()\n",
    "except ElementNotInteractableException: \n",
    "    print(\"The element is not currently interactable.\")"
   ]
  },
  {
   "cell_type": "code",
   "execution_count": 43,
   "id": "e7270afe",
   "metadata": {},
   "outputs": [],
   "source": [
    "gdpstate=driver.find_element(By.XPATH,\"/html/body/div[2]/div[2]/div[2]/ul/li[1]/a\")\n",
    "gdpstate.click()\n",
    "\n"
   ]
  },
  {
   "cell_type": "code",
   "execution_count": 44,
   "id": "1da689d6",
   "metadata": {},
   "outputs": [],
   "source": [
    "Rows=[]"
   ]
  },
  {
   "cell_type": "code",
   "execution_count": 50,
   "id": "a5e4064d",
   "metadata": {},
   "outputs": [],
   "source": [
    "row_tags=driver.find_elements(By.XPATH,'//tr[@class=\"odd\"]')\n",
    "for i in row_tags[0:10]:\n",
    "    row=i.text\n",
    "    Rows.append(row)\n"
   ]
  },
  {
   "cell_type": "code",
   "execution_count": 51,
   "id": "83109f23",
   "metadata": {},
   "outputs": [
    {
     "data": {
      "text/plain": [
       "['1 Maharashtra - 2,632,792 13.94% 399.921 - 2,039,074',\n",
       " '1 Maharashtra - 2,632,792 13.94% 399.921 - 2,039,074',\n",
       " '3 Uttar Pradesh 1,687,818 1,584,764 8.39% 240.726 1,166,817 1,123,982',\n",
       " '5 Karnataka 1,631,977 1,493,127 7.91% 226.806 1,156,039 1,091,077',\n",
       " '7 Rajasthan 1,020,989 942,586 4.99% 143.179 711,627 677,428',\n",
       " '9 Telangana 969,604 861,031 4.56% 130.791 663,258 612,828',\n",
       " '11 Kerala - 781,653 4.14% 118.733 - 559,412',\n",
       " '13 Haryana 831,610 734,163 3.89% 111.519 572,240 531,085',\n",
       " '15 Punjab 574,760 526,376 2.79% 79.957 418,868 397,669',\n",
       " '17 Assam - 315,881 1.67% 47.982 - 234,048',\n",
       " '19 Jharkhand 328,598 297,204 1.57% 45.145 240,036 224,986']"
      ]
     },
     "execution_count": 51,
     "metadata": {},
     "output_type": "execute_result"
    }
   ],
   "source": [
    "Rows"
   ]
  },
  {
   "cell_type": "code",
   "execution_count": 52,
   "id": "cf75b8a5",
   "metadata": {},
   "outputs": [],
   "source": [
    "Rows2=[]\n",
    "row2_tags=driver.find_elements(By.XPATH,'//tr[@class=\"even\"]')\n",
    "for i in row2_tags[0:10]:\n",
    "    row2=i.text\n",
    "    Rows2.append(row2)\n",
    "\n"
   ]
  },
  {
   "cell_type": "code",
   "execution_count": 53,
   "id": "a0b8f933",
   "metadata": {},
   "outputs": [
    {
     "data": {
      "text/plain": [
       "['2 Tamil Nadu 1,845,853 1,630,208 8.63% 247.629 1,312,929 1,215,307',\n",
       " '4 Gujarat - 1,502,899 7.96% 228.290 - 1,186,379',\n",
       " '6 West Bengal 1,253,832 1,089,898 5.77% 165.556 793,223 739,525',\n",
       " '8 Andhra Pradesh 972,782 862,957 4.57% 131.083 672,018 621,301',\n",
       " '10 Madhya Pradesh 906,672 809,592 4.29% 122.977 561,801 522,009',\n",
       " '12 Delhi 856,112 774,870 4.10% 117.703 634,408 590,569',\n",
       " '14 Bihar 611,804 530,363 2.81% 80.562 414,977 375,651',\n",
       " '16 Odisha 521,275 487,805 2.58% 74.098 396,499 376,877',\n",
       " '18 Chhattisgarh 329,180 304,063 1.61% 46.187 243,477 231,182',\n",
       " '20 Uttarakhand - 245,895 1.30% 37.351 - 193,273']"
      ]
     },
     "execution_count": 53,
     "metadata": {},
     "output_type": "execute_result"
    }
   ],
   "source": [
    "Rows2"
   ]
  },
  {
   "cell_type": "code",
   "execution_count": 54,
   "id": "42c43f6a",
   "metadata": {},
   "outputs": [],
   "source": [
    "Rows3=Rows+Rows2"
   ]
  },
  {
   "cell_type": "code",
   "execution_count": 55,
   "id": "262bb4f1",
   "metadata": {},
   "outputs": [
    {
     "data": {
      "text/plain": [
       "['1 Maharashtra - 2,632,792 13.94% 399.921 - 2,039,074',\n",
       " '1 Maharashtra - 2,632,792 13.94% 399.921 - 2,039,074',\n",
       " '3 Uttar Pradesh 1,687,818 1,584,764 8.39% 240.726 1,166,817 1,123,982',\n",
       " '5 Karnataka 1,631,977 1,493,127 7.91% 226.806 1,156,039 1,091,077',\n",
       " '7 Rajasthan 1,020,989 942,586 4.99% 143.179 711,627 677,428',\n",
       " '9 Telangana 969,604 861,031 4.56% 130.791 663,258 612,828',\n",
       " '11 Kerala - 781,653 4.14% 118.733 - 559,412',\n",
       " '13 Haryana 831,610 734,163 3.89% 111.519 572,240 531,085',\n",
       " '15 Punjab 574,760 526,376 2.79% 79.957 418,868 397,669',\n",
       " '17 Assam - 315,881 1.67% 47.982 - 234,048',\n",
       " '19 Jharkhand 328,598 297,204 1.57% 45.145 240,036 224,986',\n",
       " '2 Tamil Nadu 1,845,853 1,630,208 8.63% 247.629 1,312,929 1,215,307',\n",
       " '4 Gujarat - 1,502,899 7.96% 228.290 - 1,186,379',\n",
       " '6 West Bengal 1,253,832 1,089,898 5.77% 165.556 793,223 739,525',\n",
       " '8 Andhra Pradesh 972,782 862,957 4.57% 131.083 672,018 621,301',\n",
       " '10 Madhya Pradesh 906,672 809,592 4.29% 122.977 561,801 522,009',\n",
       " '12 Delhi 856,112 774,870 4.10% 117.703 634,408 590,569',\n",
       " '14 Bihar 611,804 530,363 2.81% 80.562 414,977 375,651',\n",
       " '16 Odisha 521,275 487,805 2.58% 74.098 396,499 376,877',\n",
       " '18 Chhattisgarh 329,180 304,063 1.61% 46.187 243,477 231,182',\n",
       " '20 Uttarakhand - 245,895 1.30% 37.351 - 193,273']"
      ]
     },
     "execution_count": 55,
     "metadata": {},
     "output_type": "execute_result"
    }
   ],
   "source": [
    "Rows3"
   ]
  },
  {
   "cell_type": "code",
   "execution_count": 60,
   "id": "934c19f5",
   "metadata": {},
   "outputs": [],
   "source": [
    "rank_data = {}\n",
    "for item in Rows3:\n",
    "    parts = item.split(' ')\n",
    "    rank = int(parts[0])\n",
    "    rank_data[rank] = item\n",
    "\n",
    "# Sort the data based on the rank\n",
    "sorted_data = [rank_data[key] for key in sorted(rank_data.keys())]\n",
    "\n"
   ]
  },
  {
   "cell_type": "code",
   "execution_count": 61,
   "id": "945a5263",
   "metadata": {},
   "outputs": [
    {
     "data": {
      "text/plain": [
       "['1 Maharashtra - 2,632,792 13.94% 399.921 - 2,039,074',\n",
       " '2 Tamil Nadu 1,845,853 1,630,208 8.63% 247.629 1,312,929 1,215,307',\n",
       " '3 Uttar Pradesh 1,687,818 1,584,764 8.39% 240.726 1,166,817 1,123,982',\n",
       " '4 Gujarat - 1,502,899 7.96% 228.290 - 1,186,379',\n",
       " '5 Karnataka 1,631,977 1,493,127 7.91% 226.806 1,156,039 1,091,077',\n",
       " '6 West Bengal 1,253,832 1,089,898 5.77% 165.556 793,223 739,525',\n",
       " '7 Rajasthan 1,020,989 942,586 4.99% 143.179 711,627 677,428',\n",
       " '8 Andhra Pradesh 972,782 862,957 4.57% 131.083 672,018 621,301',\n",
       " '9 Telangana 969,604 861,031 4.56% 130.791 663,258 612,828',\n",
       " '10 Madhya Pradesh 906,672 809,592 4.29% 122.977 561,801 522,009',\n",
       " '11 Kerala - 781,653 4.14% 118.733 - 559,412',\n",
       " '12 Delhi 856,112 774,870 4.10% 117.703 634,408 590,569',\n",
       " '13 Haryana 831,610 734,163 3.89% 111.519 572,240 531,085',\n",
       " '14 Bihar 611,804 530,363 2.81% 80.562 414,977 375,651',\n",
       " '15 Punjab 574,760 526,376 2.79% 79.957 418,868 397,669',\n",
       " '16 Odisha 521,275 487,805 2.58% 74.098 396,499 376,877',\n",
       " '17 Assam - 315,881 1.67% 47.982 - 234,048',\n",
       " '18 Chhattisgarh 329,180 304,063 1.61% 46.187 243,477 231,182',\n",
       " '19 Jharkhand 328,598 297,204 1.57% 45.145 240,036 224,986',\n",
       " '20 Uttarakhand - 245,895 1.30% 37.351 - 193,273']"
      ]
     },
     "execution_count": 61,
     "metadata": {},
     "output_type": "execute_result"
    }
   ],
   "source": [
    "sorted_data"
   ]
  },
  {
   "cell_type": "code",
   "execution_count": 62,
   "id": "43dbf319",
   "metadata": {},
   "outputs": [
    {
     "name": "stdout",
     "output_type": "stream",
     "text": [
      "['1', 'Maharashtra', '-', '2,632,792', '13.94%', '399.921', '-', '2,039,074']\n",
      "['2', 'Tamil', 'Nadu', '1,845,853', '1,630,208', '8.63%', '247.629', '1,312,929', '1,215,307']\n",
      "['3', 'Uttar', 'Pradesh', '1,687,818', '1,584,764', '8.39%', '240.726', '1,166,817', '1,123,982']\n",
      "['4', 'Gujarat', '-', '1,502,899', '7.96%', '228.290', '-', '1,186,379']\n",
      "['5', 'Karnataka', '1,631,977', '1,493,127', '7.91%', '226.806', '1,156,039', '1,091,077']\n",
      "['6', 'West', 'Bengal', '1,253,832', '1,089,898', '5.77%', '165.556', '793,223', '739,525']\n",
      "['7', 'Rajasthan', '1,020,989', '942,586', '4.99%', '143.179', '711,627', '677,428']\n",
      "['8', 'Andhra', 'Pradesh', '972,782', '862,957', '4.57%', '131.083', '672,018', '621,301']\n",
      "['9', 'Telangana', '969,604', '861,031', '4.56%', '130.791', '663,258', '612,828']\n",
      "['10', 'Madhya', 'Pradesh', '906,672', '809,592', '4.29%', '122.977', '561,801', '522,009']\n",
      "['11', 'Kerala', '-', '781,653', '4.14%', '118.733', '-', '559,412']\n",
      "['12', 'Delhi', '856,112', '774,870', '4.10%', '117.703', '634,408', '590,569']\n",
      "['13', 'Haryana', '831,610', '734,163', '3.89%', '111.519', '572,240', '531,085']\n",
      "['14', 'Bihar', '611,804', '530,363', '2.81%', '80.562', '414,977', '375,651']\n",
      "['15', 'Punjab', '574,760', '526,376', '2.79%', '79.957', '418,868', '397,669']\n",
      "['16', 'Odisha', '521,275', '487,805', '2.58%', '74.098', '396,499', '376,877']\n",
      "['17', 'Assam', '-', '315,881', '1.67%', '47.982', '-', '234,048']\n",
      "['18', 'Chhattisgarh', '329,180', '304,063', '1.61%', '46.187', '243,477', '231,182']\n",
      "['19', 'Jharkhand', '328,598', '297,204', '1.57%', '45.145', '240,036', '224,986']\n",
      "['20', 'Uttarakhand', '-', '245,895', '1.30%', '37.351', '-', '193,273']\n"
     ]
    }
   ],
   "source": [
    "for item in sorted_data:\n",
    "    values = item.split(' ')\n",
    "    print(values)"
   ]
  },
  {
   "cell_type": "code",
   "execution_count": 85,
   "id": "d5eedb62",
   "metadata": {},
   "outputs": [
    {
     "ename": "IndexError",
     "evalue": "list index out of range",
     "output_type": "error",
     "traceback": [
      "\u001b[1;31m---------------------------------------------------------------------------\u001b[0m",
      "\u001b[1;31mIndexError\u001b[0m                                Traceback (most recent call last)",
      "\u001b[1;32m~\\AppData\\Local\\Temp\\ipykernel_14044\\1493126926.py\u001b[0m in \u001b[0;36m<module>\u001b[1;34m\u001b[0m\n\u001b[0;32m      7\u001b[0m     \u001b[0msplit_items\u001b[0m \u001b[1;33m=\u001b[0m \u001b[0mitem\u001b[0m\u001b[1;33m.\u001b[0m\u001b[0msplit\u001b[0m\u001b[1;33m(\u001b[0m\u001b[1;34m','\u001b[0m\u001b[1;33m)\u001b[0m\u001b[1;33m\u001b[0m\u001b[1;33m\u001b[0m\u001b[0m\n\u001b[0;32m      8\u001b[0m     \u001b[0mRank\u001b[0m\u001b[1;33m.\u001b[0m\u001b[0mappend\u001b[0m\u001b[1;33m(\u001b[0m\u001b[0msplit_items\u001b[0m\u001b[1;33m[\u001b[0m\u001b[1;36m0\u001b[0m\u001b[1;33m]\u001b[0m\u001b[1;33m)\u001b[0m\u001b[1;33m\u001b[0m\u001b[1;33m\u001b[0m\u001b[0m\n\u001b[1;32m----> 9\u001b[1;33m     \u001b[0mState\u001b[0m\u001b[1;33m.\u001b[0m\u001b[0mappend\u001b[0m\u001b[1;33m(\u001b[0m\u001b[0msplit_items\u001b[0m\u001b[1;33m[\u001b[0m\u001b[1;36m1\u001b[0m\u001b[1;33m]\u001b[0m\u001b[1;33m)\u001b[0m\u001b[1;33m\u001b[0m\u001b[1;33m\u001b[0m\u001b[0m\n\u001b[0m\u001b[0;32m     10\u001b[0m     \u001b[0mColumn1\u001b[0m\u001b[1;33m.\u001b[0m\u001b[0mappend\u001b[0m\u001b[1;33m(\u001b[0m\u001b[0msplit_items\u001b[0m\u001b[1;33m[\u001b[0m\u001b[1;36m2\u001b[0m\u001b[1;33m]\u001b[0m\u001b[1;33m)\u001b[0m\u001b[1;33m\u001b[0m\u001b[1;33m\u001b[0m\u001b[0m\n\u001b[0;32m     11\u001b[0m     \u001b[0mColumn2\u001b[0m\u001b[1;33m.\u001b[0m\u001b[0mappend\u001b[0m\u001b[1;33m(\u001b[0m\u001b[0msplit_items\u001b[0m\u001b[1;33m[\u001b[0m\u001b[1;36m3\u001b[0m\u001b[1;33m]\u001b[0m\u001b[1;33m)\u001b[0m\u001b[1;33m\u001b[0m\u001b[1;33m\u001b[0m\u001b[0m\n",
      "\u001b[1;31mIndexError\u001b[0m: list index out of range"
     ]
    }
   ],
   "source": [
    "Rank = []\n",
    "State = []\n",
    "Column1 = []\n",
    "Column2 = []\n",
    "\n",
    "for item in values [0:10]:\n",
    "    split_items = item.split(',')\n",
    "    Rank.append(split_items[0])\n",
    "    State.append(split_items[1])\n",
    "    Column1.append(split_items[2])\n",
    "    Column2.append(split_items[3])\n",
    "\n",
    "print(Rank)\n",
    "print(State)\n",
    "print(Column1)\n",
    "print(Column2)\n"
   ]
  },
  {
   "cell_type": "markdown",
   "id": "1371d996",
   "metadata": {},
   "source": [
    "# Q4"
   ]
  },
  {
   "cell_type": "code",
   "execution_count": 3,
   "id": "6df86859",
   "metadata": {},
   "outputs": [],
   "source": [
    "driver=webdriver.Chrome(r\"chromedriver.exe\")\n",
    "driver.get(\"https://github.com/\")\n"
   ]
  },
  {
   "cell_type": "code",
   "execution_count": 6,
   "id": "cbc29283",
   "metadata": {},
   "outputs": [],
   "source": [
    "try:\n",
    "    drop = driver.find_element(By.XPATH,'//ul[@class=\"d-lg-flex list-style-none\"]/li[3]/button') \n",
    "    drop.click()\n",
    "except ElementNotInteractableException: \n",
    "    print(\"The element is not currently interactable.\")"
   ]
  },
  {
   "cell_type": "code",
   "execution_count": 7,
   "id": "77de3fcf",
   "metadata": {},
   "outputs": [],
   "source": [
    "try:\n",
    "    Countrylink = driver.find_element(By.XPATH,'/html/body/div[1]/div[1]/header/div/div[2]/div/nav/ul/li[3]/div/div[3]/ul/li[2]/a') \n",
    "    Countrylink.click()\n",
    "except ElementNotInteractableException: \n",
    "    print(\"The element is not currently interactable.\")"
   ]
  },
  {
   "cell_type": "code",
   "execution_count": 9,
   "id": "2e0bdb96",
   "metadata": {},
   "outputs": [],
   "source": [
    "Title=[]\n",
    "Description=[]\n",
    "Count=[]\n",
    "Language=[]"
   ]
  },
  {
   "cell_type": "code",
   "execution_count": 10,
   "id": "63c3ac90",
   "metadata": {},
   "outputs": [],
   "source": [
    "title_tags=driver.find_elements(By.XPATH,'//span[@class=\"text-normal\"]')\n",
    "for i in title_tags[0:50]:\n",
    "    title=i.text\n",
    "    Title.append(title)\n",
    "desc_tags=driver.find_elements(By.XPATH,'//p[@class=\"col-9 color-fg-muted my-1 pr-4\"]')\n",
    "for i in desc_tags[0:50]:\n",
    "    desc=i.text\n",
    "    Description.append(desc)\n",
    "lan_tags=driver.find_elements(By.XPATH,'/html/body/div[1]/div[4]/main/div[3]/div/div[2]/article[1]/div[2]/span[1]/span[2]')\n",
    "for i in lan_tags[0:50]:\n",
    "    lan=i.text\n",
    "    Language.append(lan)"
   ]
  },
  {
   "cell_type": "code",
   "execution_count": 12,
   "id": "65c5d6ec",
   "metadata": {},
   "outputs": [
    {
     "data": {
      "text/plain": [
       "['PowerShell for every system!',\n",
       " 'There can be more than Notion and Miro. AFFiNE is a next-gen knowledge base that brings planning, sorting and creating all together. Privacy first, open-source, customizable and ready to use.',\n",
       " 'An open-source C++ library developed and used at Facebook.',\n",
       " 'This is the official code for Faster Segment Anything (MobileSAM) project that makes SAM lightweight for mobile applications and beyond!',\n",
       " 'Remove backgrounds from images directly in the browser environment with ease and no additional costs or privacy concerns. Explore an interactive demo.',\n",
       " 'Curated list of project-based tutorials',\n",
       " '中国大模型',\n",
       " 'All you need for End-to-end Autonomous Driving',\n",
       " 'A list of SaaS, PaaS and IaaS offerings that have free tiers of interest to devops and infradev',\n",
       " '🥷 Superagent - Build, deploy, and manage LLM-powered agents',\n",
       " 'Fine-tuning ChatGLM-6B with PEFT | 基于 PEFT 的高效 ChatGLM 微调',\n",
       " '📚 Freely available programming books',\n",
       " '🧑\\u200d🏫 59 Implementations/tutorials of deep learning papers with side-by-side notes 📝; including transformers (original, xl, switch, feedback, vit, ...), optimizers (adam, adabelief, ...), gans(cyclegan, stylegan2, ...), 🎮 reinforcement learning (ppo, dqn), capsnet, distillation, ... 🧠',\n",
       " '🤗 Transformers: State-of-the-art Machine Learning for Pytorch, TensorFlow, and JAX.',\n",
       " '🧠 Dump all your files into your private Generative AI Second Brain and chat with it using LLMs ( GPT 3.5/4, Private, Anthropic, VertexAI ) & Embeddings 🧠',\n",
       " 'Cross-platform .NET sample microservices and container based application that runs on Linux Windows and macOS. Powered by .NET 7, Docker Containers and Azure Kubernetes Services. Supports Visual Studio, VS for Mac and CLI based environments with Docker CLI, dotnet CLI, VS Code or any other code editor.',\n",
       " 'Create book from markdown files. Like Gitbook but implemented in Rust',\n",
       " '🆓免费的 ChatGPT 镜像网站列表，持续更新。List of free ChatGPT mirror sites, continuously updated.',\n",
       " 'Ansible for DevOps examples.',\n",
       " '《构筑大语言模型应用：应用开发与架构设计》一本关于 LLM 在真实世界应用的开源电子书，介绍了大语言模型的基础知识和应用，以及如何构建自己的模型。其中包括Prompt的编写、开发和管理，探索最好的大语言模型能带来什么，以及LLM应用开发的模式和架构设计。',\n",
       " 'Chat with your documents on your local device using GPT models. No data leaves your device and 100% private.',\n",
       " 'Book_4_《矩阵力量》 | 鸢尾花书：从加减乘除到机器学习；上架！',\n",
       " 'Type-safe, K-sortable, globally unique identifier inspired by Stripe IDs']"
      ]
     },
     "execution_count": 12,
     "metadata": {},
     "output_type": "execute_result"
    }
   ],
   "source": [
    "Description"
   ]
  },
  {
   "cell_type": "code",
   "execution_count": 17,
   "id": "c212d14f",
   "metadata": {},
   "outputs": [],
   "source": [
    "repo_url=[]\n",
    "start=0\n",
    "end=1\n",
    "try:\n",
    "    for page in range(start,end):   \n",
    "        url = driver.find_elements(By.XPATH, '//h2[@class=\"h3 lh-condensed\"]/a')\n",
    "        for i in url:\n",
    "            repo_url.append(i.get_attribute('href'))\n",
    "except NoSuchElementException :\n",
    "        repo_url.append('No url')\n"
   ]
  },
  {
   "cell_type": "code",
   "execution_count": 18,
   "id": "1bb8aa79",
   "metadata": {},
   "outputs": [
    {
     "data": {
      "text/plain": [
       "['https://github.com/PowerShell/PowerShell',\n",
       " 'https://github.com/WeMakeDevs/open-source-course',\n",
       " 'https://github.com/toeverything/AFFiNE',\n",
       " 'https://github.com/facebook/folly',\n",
       " 'https://github.com/ChaoningZhang/MobileSAM',\n",
       " 'https://github.com/imgly/background-removal-js',\n",
       " 'https://github.com/practical-tutorials/project-based-learning',\n",
       " 'https://github.com/wgwang/LLMs-In-China',\n",
       " 'https://github.com/OpenDriveLab/End-to-end-Autonomous-Driving',\n",
       " 'https://github.com/ripienaar/free-for-dev',\n",
       " 'https://github.com/homanp/superagent',\n",
       " 'https://github.com/hiyouga/ChatGLM-Efficient-Tuning',\n",
       " 'https://github.com/EbookFoundation/free-programming-books',\n",
       " 'https://github.com/teslamotors/fleet-telemetry',\n",
       " 'https://github.com/labmlai/annotated_deep_learning_paper_implementations',\n",
       " 'https://github.com/huggingface/transformers',\n",
       " 'https://github.com/StanGirard/quivr',\n",
       " 'https://github.com/dotnet-architecture/eShopOnContainers',\n",
       " 'https://github.com/rust-lang/mdBook',\n",
       " 'https://github.com/LiLittleCat/awesome-free-chatgpt',\n",
       " 'https://github.com/geerlingguy/ansible-for-devops',\n",
       " 'https://github.com/phodal/aigc',\n",
       " 'https://github.com/PromtEngineer/localGPT',\n",
       " 'https://github.com/Visualize-ML/Book4_Power-of-Matrix',\n",
       " 'https://github.com/jetpack-io/typeid']"
      ]
     },
     "execution_count": 18,
     "metadata": {},
     "output_type": "execute_result"
    }
   ],
   "source": [
    "repo_url"
   ]
  },
  {
   "cell_type": "code",
   "execution_count": 41,
   "id": "07bffc18",
   "metadata": {},
   "outputs": [],
   "source": [
    "Language=[]\n",
    "lan_tags=driver.find_elements(By.XPATH,'//span[@itemprop=\"programmingLanguage\"]')\n",
    "for i in lan_tags[0:50]:\n",
    "    lan=i.text\n",
    "    Language.append(lan)\n"
   ]
  },
  {
   "cell_type": "code",
   "execution_count": 42,
   "id": "d2e23dc9",
   "metadata": {},
   "outputs": [
    {
     "data": {
      "text/plain": [
       "20"
      ]
     },
     "execution_count": 42,
     "metadata": {},
     "output_type": "execute_result"
    }
   ],
   "source": [
    "len(Language)"
   ]
  },
  {
   "cell_type": "code",
   "execution_count": 28,
   "id": "fce9f254",
   "metadata": {},
   "outputs": [],
   "source": [
    "Count=[]\n",
    "for i in repo_url[0:25]: \n",
    "    driver.get(i) \n",
    "    time.sleep(3)\n",
    "    try:\n",
    "        count = driver.find_element(By.XPATH,'//div[@class=\"Layout-sidebar\"]/div/div[4]/div/h2/a/span') \n",
    "        Count.append(count.text) \n",
    "    except NoSuchElementException : \n",
    "        Count.append('-')"
   ]
  },
  {
   "cell_type": "code",
   "execution_count": 43,
   "id": "be997eba",
   "metadata": {},
   "outputs": [
    {
     "data": {
      "text/plain": [
       "['C#',\n",
       " 'TypeScript',\n",
       " 'C++',\n",
       " 'Jupyter Notebook',\n",
       " 'TypeScript',\n",
       " 'HTML',\n",
       " 'JavaScript',\n",
       " 'Python',\n",
       " 'Go',\n",
       " 'Jupyter Notebook',\n",
       " 'Python',\n",
       " 'TypeScript',\n",
       " 'C#',\n",
       " 'Rust',\n",
       " 'Python',\n",
       " 'Python',\n",
       " 'Rust',\n",
       " 'Python',\n",
       " 'Python',\n",
       " 'Go']"
      ]
     },
     "execution_count": 43,
     "metadata": {},
     "output_type": "execute_result"
    }
   ],
   "source": [
    "Language"
   ]
  },
  {
   "cell_type": "code",
   "execution_count": 44,
   "id": "66d0b582",
   "metadata": {},
   "outputs": [
    {
     "data": {
      "text/html": [
       "<div>\n",
       "<style scoped>\n",
       "    .dataframe tbody tr th:only-of-type {\n",
       "        vertical-align: middle;\n",
       "    }\n",
       "\n",
       "    .dataframe tbody tr th {\n",
       "        vertical-align: top;\n",
       "    }\n",
       "\n",
       "    .dataframe thead th {\n",
       "        text-align: right;\n",
       "    }\n",
       "</style>\n",
       "<table border=\"1\" class=\"dataframe\">\n",
       "  <thead>\n",
       "    <tr style=\"text-align: right;\">\n",
       "      <th></th>\n",
       "      <th>Repository title</th>\n",
       "      <th>Repository description</th>\n",
       "      <th>Contributors count</th>\n",
       "      <th>Language used</th>\n",
       "    </tr>\n",
       "  </thead>\n",
       "  <tbody>\n",
       "    <tr>\n",
       "      <th>0</th>\n",
       "      <td>PowerShell /</td>\n",
       "      <td>PowerShell for every system!</td>\n",
       "      <td>435</td>\n",
       "      <td>C#</td>\n",
       "    </tr>\n",
       "    <tr>\n",
       "      <th>1</th>\n",
       "      <td>WeMakeDevs /</td>\n",
       "      <td>There can be more than Notion and Miro. AFFiNE...</td>\n",
       "      <td>-</td>\n",
       "      <td>TypeScript</td>\n",
       "    </tr>\n",
       "    <tr>\n",
       "      <th>2</th>\n",
       "      <td>toeverything /</td>\n",
       "      <td>An open-source C++ library developed and used ...</td>\n",
       "      <td>8</td>\n",
       "      <td>C++</td>\n",
       "    </tr>\n",
       "    <tr>\n",
       "      <th>3</th>\n",
       "      <td>facebook /</td>\n",
       "      <td>This is the official code for Faster Segment A...</td>\n",
       "      <td>-</td>\n",
       "      <td>Jupyter Notebook</td>\n",
       "    </tr>\n",
       "    <tr>\n",
       "      <th>4</th>\n",
       "      <td>ChaoningZhang /</td>\n",
       "      <td>Remove backgrounds from images directly in the...</td>\n",
       "      <td>-</td>\n",
       "      <td>TypeScript</td>\n",
       "    </tr>\n",
       "    <tr>\n",
       "      <th>5</th>\n",
       "      <td>imgly /</td>\n",
       "      <td>Curated list of project-based tutorials</td>\n",
       "      <td>1</td>\n",
       "      <td>HTML</td>\n",
       "    </tr>\n",
       "    <tr>\n",
       "      <th>6</th>\n",
       "      <td>practical-tutorials /</td>\n",
       "      <td>中国大模型</td>\n",
       "      <td>-</td>\n",
       "      <td>JavaScript</td>\n",
       "    </tr>\n",
       "    <tr>\n",
       "      <th>7</th>\n",
       "      <td>wgwang /</td>\n",
       "      <td>All you need for End-to-end Autonomous Driving</td>\n",
       "      <td>-</td>\n",
       "      <td>Python</td>\n",
       "    </tr>\n",
       "    <tr>\n",
       "      <th>8</th>\n",
       "      <td>OpenDriveLab /</td>\n",
       "      <td>A list of SaaS, PaaS and IaaS offerings that h...</td>\n",
       "      <td>-</td>\n",
       "      <td>Go</td>\n",
       "    </tr>\n",
       "    <tr>\n",
       "      <th>9</th>\n",
       "      <td>ripienaar /</td>\n",
       "      <td>🥷 Superagent - Build, deploy, and manage LLM-p...</td>\n",
       "      <td>-</td>\n",
       "      <td>Jupyter Notebook</td>\n",
       "    </tr>\n",
       "    <tr>\n",
       "      <th>10</th>\n",
       "      <td>homanp /</td>\n",
       "      <td>Fine-tuning ChatGLM-6B with PEFT | 基于 PEFT 的高效...</td>\n",
       "      <td>-</td>\n",
       "      <td>Python</td>\n",
       "    </tr>\n",
       "    <tr>\n",
       "      <th>11</th>\n",
       "      <td>hiyouga /</td>\n",
       "      <td>📚 Freely available programming books</td>\n",
       "      <td>-</td>\n",
       "      <td>TypeScript</td>\n",
       "    </tr>\n",
       "    <tr>\n",
       "      <th>12</th>\n",
       "      <td>EbookFoundation /</td>\n",
       "      <td>🧑‍🏫 59 Implementations/tutorials of deep learn...</td>\n",
       "      <td>2,517</td>\n",
       "      <td>C#</td>\n",
       "    </tr>\n",
       "    <tr>\n",
       "      <th>13</th>\n",
       "      <td>teslamotors /</td>\n",
       "      <td>🤗 Transformers: State-of-the-art Machine Learn...</td>\n",
       "      <td>-</td>\n",
       "      <td>Rust</td>\n",
       "    </tr>\n",
       "    <tr>\n",
       "      <th>14</th>\n",
       "      <td>labmlai /</td>\n",
       "      <td>🧠 Dump all your files into your private Genera...</td>\n",
       "      <td>21</td>\n",
       "      <td>Python</td>\n",
       "    </tr>\n",
       "    <tr>\n",
       "      <th>15</th>\n",
       "      <td>huggingface /</td>\n",
       "      <td>Cross-platform .NET sample microservices and c...</td>\n",
       "      <td>79.3k</td>\n",
       "      <td>Python</td>\n",
       "    </tr>\n",
       "    <tr>\n",
       "      <th>16</th>\n",
       "      <td>StanGirard /</td>\n",
       "      <td>Create book from markdown files. Like Gitbook ...</td>\n",
       "      <td>-</td>\n",
       "      <td>Rust</td>\n",
       "    </tr>\n",
       "    <tr>\n",
       "      <th>17</th>\n",
       "      <td>dotnet-architecture /</td>\n",
       "      <td>🆓免费的 ChatGPT 镜像网站列表，持续更新。List of free ChatGPT ...</td>\n",
       "      <td>12</td>\n",
       "      <td>Python</td>\n",
       "    </tr>\n",
       "    <tr>\n",
       "      <th>18</th>\n",
       "      <td>rust-lang /</td>\n",
       "      <td>Ansible for DevOps examples.</td>\n",
       "      <td>275</td>\n",
       "      <td>Python</td>\n",
       "    </tr>\n",
       "    <tr>\n",
       "      <th>19</th>\n",
       "      <td>LiLittleCat /</td>\n",
       "      <td>《构筑大语言模型应用：应用开发与架构设计》一本关于 LLM 在真实世界应用的开源电子书，介绍...</td>\n",
       "      <td>18</td>\n",
       "      <td>Go</td>\n",
       "    </tr>\n",
       "  </tbody>\n",
       "</table>\n",
       "</div>"
      ],
      "text/plain": [
       "         Repository title                             Repository description  \\\n",
       "0            PowerShell /                       PowerShell for every system!   \n",
       "1            WeMakeDevs /  There can be more than Notion and Miro. AFFiNE...   \n",
       "2          toeverything /  An open-source C++ library developed and used ...   \n",
       "3              facebook /  This is the official code for Faster Segment A...   \n",
       "4         ChaoningZhang /  Remove backgrounds from images directly in the...   \n",
       "5                 imgly /            Curated list of project-based tutorials   \n",
       "6   practical-tutorials /                                              中国大模型   \n",
       "7                wgwang /     All you need for End-to-end Autonomous Driving   \n",
       "8          OpenDriveLab /  A list of SaaS, PaaS and IaaS offerings that h...   \n",
       "9             ripienaar /  🥷 Superagent - Build, deploy, and manage LLM-p...   \n",
       "10               homanp /  Fine-tuning ChatGLM-6B with PEFT | 基于 PEFT 的高效...   \n",
       "11              hiyouga /               📚 Freely available programming books   \n",
       "12      EbookFoundation /  🧑‍🏫 59 Implementations/tutorials of deep learn...   \n",
       "13          teslamotors /  🤗 Transformers: State-of-the-art Machine Learn...   \n",
       "14              labmlai /  🧠 Dump all your files into your private Genera...   \n",
       "15          huggingface /  Cross-platform .NET sample microservices and c...   \n",
       "16           StanGirard /  Create book from markdown files. Like Gitbook ...   \n",
       "17  dotnet-architecture /  🆓免费的 ChatGPT 镜像网站列表，持续更新。List of free ChatGPT ...   \n",
       "18            rust-lang /                       Ansible for DevOps examples.   \n",
       "19          LiLittleCat /  《构筑大语言模型应用：应用开发与架构设计》一本关于 LLM 在真实世界应用的开源电子书，介绍...   \n",
       "\n",
       "   Contributors count     Language used  \n",
       "0                 435                C#  \n",
       "1                   -        TypeScript  \n",
       "2                   8               C++  \n",
       "3                   -  Jupyter Notebook  \n",
       "4                   -        TypeScript  \n",
       "5                   1              HTML  \n",
       "6                   -        JavaScript  \n",
       "7                   -            Python  \n",
       "8                   -                Go  \n",
       "9                   -  Jupyter Notebook  \n",
       "10                  -            Python  \n",
       "11                  -        TypeScript  \n",
       "12              2,517                C#  \n",
       "13                  -              Rust  \n",
       "14                 21            Python  \n",
       "15              79.3k            Python  \n",
       "16                  -              Rust  \n",
       "17                 12            Python  \n",
       "18                275            Python  \n",
       "19                 18                Go  "
      ]
     },
     "execution_count": 44,
     "metadata": {},
     "output_type": "execute_result"
    }
   ],
   "source": [
    "import pandas as pd\n",
    "df4=pd.DataFrame({'Repository title':Title[0:20],'Repository description':Description[0:20],'Contributors count':Count[0:20],'Language used':Language[0:20]})\n",
    "df4"
   ]
  },
  {
   "cell_type": "markdown",
   "id": "d6cc60a8",
   "metadata": {},
   "source": [
    "# Q5"
   ]
  },
  {
   "cell_type": "code",
   "execution_count": 45,
   "id": "a65608b2",
   "metadata": {},
   "outputs": [],
   "source": [
    "driver=webdriver.Chrome(r\"chromedriver.exe\")\n",
    "driver.get(\"https:/www.billboard.com/\")\n"
   ]
  },
  {
   "cell_type": "code",
   "execution_count": 46,
   "id": "61c5432f",
   "metadata": {},
   "outputs": [],
   "source": [
    "chartclick=driver.find_element(By.XPATH,\"/html/body/div[3]/header/div/div[1]/div/div/div[2]/div/nav/ul/li[1]/a\")\n",
    "chartclick.click()\n",
    "\n"
   ]
  },
  {
   "cell_type": "code",
   "execution_count": 47,
   "id": "ed702f4f",
   "metadata": {},
   "outputs": [],
   "source": [
    "chartclick1=driver.find_element(By.XPATH,\"/html/body/div[3]/main/div[2]/div[1]/div[1]/div/div/div[1]/div[1]/div[2]/span/a\")\n",
    "chartclick1.click()\n"
   ]
  },
  {
   "cell_type": "code",
   "execution_count": 49,
   "id": "45acb41a",
   "metadata": {},
   "outputs": [],
   "source": [
    "Song=[]\n",
    "Artist=[]\n",
    "last_week_rank=[]\n",
    "Peak_rank=[]\n",
    "weeks_board=[]"
   ]
  },
  {
   "cell_type": "code",
   "execution_count": 58,
   "id": "f4783568",
   "metadata": {},
   "outputs": [],
   "source": [
    "song_tags=driver.find_elements(By.XPATH,'/html/body/div[3]/main/div[2]/div[3]/div/div/div/div[2]/div[2]/ul/li[4]/ul/li[1]/h3')\n",
    "for i in song_tags[0:100]:\n",
    "    song=i.text\n",
    "    Song.append(song)\n",
    "Art_tags=driver.find_elements(By.XPATH,'//span[@class=\"c-label  a-no-trucate a-font-primary-s lrv-u-font-size-14@mobile-max u-line-height-normal@mobile-max u-letter-spacing-0021 lrv-u-display-block a-truncate-ellipsis-2line u-max-width-330 u-max-width-230@tablet-only u-font-size-20@tablet\"]')\n",
    "for i in Art_tags[0:100]:\n",
    "    Art=i.text\n",
    "    Artist.append(Art)\n",
    "last_tags=driver.find_elements(By.XPATH,'/html/body/div[3]/main/div[2]/div[3]/div/div/div/div[2]/div[2]/ul/li[4]/ul/li[4]/span')\n",
    "for i in last_tags[0:100]:\n",
    "    last=i.text\n",
    "    last_week_rank.append(last)\n",
    "Peak_tags=driver.find_elements(By.XPATH,'/html/body/div[3]/main/div[2]/div[3]/div/div/div/div[2]/div[2]/ul/li[4]/ul/li[5]/span')\n",
    "for i in Peak_tags[0:100]:\n",
    "    Peak=i.text\n",
    "    Peak_rank.append(Peak)\n",
    "week_tags=driver.find_elements(By.XPATH,'/html/body/div[3]/main/div[2]/div[3]/div/div/div/div[2]/div[2]/ul/li[4]/ul/li[6]/span')\n",
    "for i in week_tags[0:100]:\n",
    "    week=i.text\n",
    "    weeks_board.append(week)\n"
   ]
  },
  {
   "cell_type": "code",
   "execution_count": 64,
   "id": "4f63684b",
   "metadata": {},
   "outputs": [
    {
     "data": {
      "text/plain": [
       "'21'"
      ]
     },
     "execution_count": 64,
     "metadata": {},
     "output_type": "execute_result"
    }
   ],
   "source": [
    "week"
   ]
  },
  {
   "cell_type": "code",
   "execution_count": 65,
   "id": "256f0bc8",
   "metadata": {},
   "outputs": [],
   "source": [
    "Song1=[]\n",
    "Artist1=[]\n",
    "last_week_rank1=[]\n",
    "Peak_rank1=[]\n",
    "weeks_board1=[]"
   ]
  },
  {
   "cell_type": "code",
   "execution_count": 72,
   "id": "1231c5ff",
   "metadata": {},
   "outputs": [],
   "source": [
    "song1_tags=driver.find_elements(By.XPATH,'//div[@class=\"o-chart-results-list-row-container\"]/ul/li[4]/ul/li/h3')\n",
    "for i in song1_tags[0:100]:\n",
    "    song1=i.text\n",
    "    Song1.append(song1)\n",
    "Art1_tags=driver.find_elements(By.XPATH,'/html/body/div[3]/main/div[2]/div[3]/div/div/div/div[2]/div[2]/ul/li[4]/ul/li[1]/span')\n",
    "for i in Art1_tags[0:100]:\n",
    "    Art1=i.text\n",
    "    Artist1.append(Art1)\n",
    "last1_tags=driver.find_elements(By.XPATH,'//div[@class=\"o-chart-results-list-row-container\"]/ul/li[4]/ul/li[4]/span')\n",
    "for i in last1_tags[0:100]:\n",
    "    last1=i.text\n",
    "    last_week_rank1.append(last1)\n",
    "Peak1_tags=driver.find_elements(By.XPATH,'//div[@class=\"o-chart-results-list-row-container\"]/ul/li[4]/ul/li[5]/span')\n",
    "for i in Peak1_tags[0:100]:\n",
    "    Peak1=i.text\n",
    "    Peak_rank1.append(Peak1)\n",
    "week1_tags=driver.find_elements(By.XPATH,'//div[@class=\"o-chart-results-list-row-container\"]/ul/li[4]/ul/li[6]/span')\n",
    "for i in week1_tags[0:100]:\n",
    "    week1=i.text\n",
    "    weeks_board1.append(week1)"
   ]
  },
  {
   "cell_type": "code",
   "execution_count": 74,
   "id": "a0e7e5dc",
   "metadata": {},
   "outputs": [
    {
     "data": {
      "text/plain": [
       "1"
      ]
     },
     "execution_count": 74,
     "metadata": {},
     "output_type": "execute_result"
    }
   ],
   "source": [
    "len(Artist1)"
   ]
  },
  {
   "cell_type": "code",
   "execution_count": 76,
   "id": "9b0c4e08",
   "metadata": {},
   "outputs": [
    {
     "data": {
      "text/html": [
       "<div>\n",
       "<style scoped>\n",
       "    .dataframe tbody tr th:only-of-type {\n",
       "        vertical-align: middle;\n",
       "    }\n",
       "\n",
       "    .dataframe tbody tr th {\n",
       "        vertical-align: top;\n",
       "    }\n",
       "\n",
       "    .dataframe thead th {\n",
       "        text-align: right;\n",
       "    }\n",
       "</style>\n",
       "<table border=\"1\" class=\"dataframe\">\n",
       "  <thead>\n",
       "    <tr style=\"text-align: right;\">\n",
       "      <th></th>\n",
       "      <th>Song name</th>\n",
       "      <th>Last week rank</th>\n",
       "      <th>Peak rank</th>\n",
       "      <th>Weeks on board</th>\n",
       "    </tr>\n",
       "  </thead>\n",
       "  <tbody>\n",
       "    <tr>\n",
       "      <th>0</th>\n",
       "      <td>Last Night</td>\n",
       "      <td>1</td>\n",
       "      <td>1</td>\n",
       "      <td>21</td>\n",
       "    </tr>\n",
       "    <tr>\n",
       "      <th>1</th>\n",
       "      <td>Fast Car</td>\n",
       "      <td>3</td>\n",
       "      <td>2</td>\n",
       "      <td>13</td>\n",
       "    </tr>\n",
       "    <tr>\n",
       "      <th>2</th>\n",
       "      <td>Calm Down</td>\n",
       "      <td>4</td>\n",
       "      <td>3</td>\n",
       "      <td>42</td>\n",
       "    </tr>\n",
       "    <tr>\n",
       "      <th>3</th>\n",
       "      <td>Flowers</td>\n",
       "      <td>2</td>\n",
       "      <td>1</td>\n",
       "      <td>23</td>\n",
       "    </tr>\n",
       "    <tr>\n",
       "      <th>4</th>\n",
       "      <td>All My Life</td>\n",
       "      <td>5</td>\n",
       "      <td>2</td>\n",
       "      <td>6</td>\n",
       "    </tr>\n",
       "    <tr>\n",
       "      <th>...</th>\n",
       "      <td>...</td>\n",
       "      <td>...</td>\n",
       "      <td>...</td>\n",
       "      <td>...</td>\n",
       "    </tr>\n",
       "    <tr>\n",
       "      <th>95</th>\n",
       "      <td>Angel, Pt. 1</td>\n",
       "      <td>-</td>\n",
       "      <td>65</td>\n",
       "      <td>2</td>\n",
       "    </tr>\n",
       "    <tr>\n",
       "      <th>96</th>\n",
       "      <td>Girl In Mine</td>\n",
       "      <td>-</td>\n",
       "      <td>97</td>\n",
       "      <td>1</td>\n",
       "    </tr>\n",
       "    <tr>\n",
       "      <th>97</th>\n",
       "      <td>Moonlight</td>\n",
       "      <td>90</td>\n",
       "      <td>80</td>\n",
       "      <td>11</td>\n",
       "    </tr>\n",
       "    <tr>\n",
       "      <th>98</th>\n",
       "      <td>Classy 101</td>\n",
       "      <td>-</td>\n",
       "      <td>99</td>\n",
       "      <td>1</td>\n",
       "    </tr>\n",
       "    <tr>\n",
       "      <th>99</th>\n",
       "      <td>Bluffin</td>\n",
       "      <td>-</td>\n",
       "      <td>100</td>\n",
       "      <td>1</td>\n",
       "    </tr>\n",
       "  </tbody>\n",
       "</table>\n",
       "<p>100 rows × 4 columns</p>\n",
       "</div>"
      ],
      "text/plain": [
       "       Song name Last week rank Peak rank Weeks on board\n",
       "0     Last Night              1         1             21\n",
       "1       Fast Car              3         2             13\n",
       "2      Calm Down              4         3             42\n",
       "3        Flowers              2         1             23\n",
       "4    All My Life              5         2              6\n",
       "..           ...            ...       ...            ...\n",
       "95  Angel, Pt. 1              -        65              2\n",
       "96  Girl In Mine              -        97              1\n",
       "97     Moonlight             90        80             11\n",
       "98    Classy 101              -        99              1\n",
       "99       Bluffin              -       100              1\n",
       "\n",
       "[100 rows x 4 columns]"
      ]
     },
     "execution_count": 76,
     "metadata": {},
     "output_type": "execute_result"
    }
   ],
   "source": [
    "import pandas as pd\n",
    "df5=pd.DataFrame({'Song name':Song1[0:100],'Last week rank':last_week_rank1[0:100],'Peak rank':Peak_rank1[0:100],'Weeks on board':weeks_board1[0:100]})\n",
    "df5"
   ]
  },
  {
   "cell_type": "markdown",
   "id": "ce8582b6",
   "metadata": {},
   "source": [
    "# Q7"
   ]
  },
  {
   "cell_type": "code",
   "execution_count": 109,
   "id": "d337d7c9",
   "metadata": {},
   "outputs": [],
   "source": [
    "driver=webdriver.Chrome(r\"chromedriver.exe\")\n",
    "driver.get(\"https://www.imdb.com/list/ls095964455/\")\n"
   ]
  },
  {
   "cell_type": "code",
   "execution_count": 110,
   "id": "1aef7769",
   "metadata": {},
   "outputs": [],
   "source": [
    "Name=[]\n",
    "Year_span=[]\n",
    "Genre=[]\n",
    "Ratings=[]\n",
    "Vote=[]"
   ]
  },
  {
   "cell_type": "code",
   "execution_count": 111,
   "id": "dbecc4a6",
   "metadata": {},
   "outputs": [],
   "source": [
    "span_tags=driver.find_elements(By.XPATH,'//div[@class=\"lister-item mode-detail\"]/div[2]/h3/span[2]')\n",
    "for i in span_tags[0:100]:\n",
    "    span=i.text\n",
    "    Year_span.append(span)\n",
    "Gen_tags=driver.find_elements(By.XPATH,'//div[@class=\"lister-item mode-detail\"]/div[2]/p/span[5]')\n",
    "for i in Gen_tags[0:100]:\n",
    "    Gen=i.text\n",
    "    Genre.append(Gen)\n",
    "\n",
    "vote_tags=driver.find_elements(By.XPATH,'//div[@class=\"lister-item mode-detail\"]/div[2]/p[4]/span[2]')\n",
    "for i in vote_tags[0:100]:\n",
    "    vote=i.text\n",
    "    Vote.append(vote)\n"
   ]
  },
  {
   "cell_type": "code",
   "execution_count": 112,
   "id": "4733cf97",
   "metadata": {},
   "outputs": [],
   "source": [
    "Ratings=[]\n",
    "Rate_tags=driver.find_elements(By.XPATH,'//div[@class=\"lister-item mode-detail\"]/div[2]/div/div/span[2]')\n",
    "for i in Rate_tags[0:100]:\n",
    "    Rate=i.text\n",
    "    Ratings.append(Rate)\n"
   ]
  },
  {
   "cell_type": "code",
   "execution_count": 113,
   "id": "36c90566",
   "metadata": {},
   "outputs": [
    {
     "data": {
      "text/plain": [
       "100"
      ]
     },
     "execution_count": 113,
     "metadata": {},
     "output_type": "execute_result"
    }
   ],
   "source": [
    "len(Ratings)"
   ]
  },
  {
   "cell_type": "code",
   "execution_count": 114,
   "id": "f29bce30",
   "metadata": {},
   "outputs": [],
   "source": [
    "show_url=[]\n",
    "start=0\n",
    "end=1\n",
    "try:\n",
    "    for page in range(start,end):   \n",
    "        url = driver.find_elements(By.XPATH, '//h3[@class=\"lister-item-header\"]/a')\n",
    "        for i in url:\n",
    "            show_url.append(i.get_attribute('href'))\n",
    "except NoSuchElementException :\n",
    "        repo_url.append('No url')\n"
   ]
  },
  {
   "cell_type": "code",
   "execution_count": 115,
   "id": "55ba81f3",
   "metadata": {},
   "outputs": [],
   "source": [
    "Count=[]\n",
    "for i in show_url[0:100]: \n",
    "    driver.get(i) \n",
    "    time.sleep(1)\n",
    "    try:\n",
    "        count = driver.find_element(By.XPATH,'//span[@class=\"sc-afe43def-1 fDTGTb\"]') \n",
    "        Count.append(count.text) \n",
    "    except NoSuchElementException : \n",
    "        Count.append('-')"
   ]
  },
  {
   "cell_type": "code",
   "execution_count": 101,
   "id": "f2f00189",
   "metadata": {},
   "outputs": [
    {
     "data": {
      "text/plain": [
       "100"
      ]
     },
     "execution_count": 101,
     "metadata": {},
     "output_type": "execute_result"
    }
   ],
   "source": [
    "len(Count)"
   ]
  },
  {
   "cell_type": "code",
   "execution_count": 116,
   "id": "d92a4d2d",
   "metadata": {},
   "outputs": [
    {
     "data": {
      "text/html": [
       "<div>\n",
       "<style scoped>\n",
       "    .dataframe tbody tr th:only-of-type {\n",
       "        vertical-align: middle;\n",
       "    }\n",
       "\n",
       "    .dataframe tbody tr th {\n",
       "        vertical-align: top;\n",
       "    }\n",
       "\n",
       "    .dataframe thead th {\n",
       "        text-align: right;\n",
       "    }\n",
       "</style>\n",
       "<table border=\"1\" class=\"dataframe\">\n",
       "  <thead>\n",
       "    <tr style=\"text-align: right;\">\n",
       "      <th></th>\n",
       "      <th>Name</th>\n",
       "      <th>Year Span</th>\n",
       "      <th>Genre</th>\n",
       "      <th>Ratings</th>\n",
       "      <th>Votes</th>\n",
       "    </tr>\n",
       "  </thead>\n",
       "  <tbody>\n",
       "    <tr>\n",
       "      <th>0</th>\n",
       "      <td>Game of Thrones</td>\n",
       "      <td>(2011–2019)</td>\n",
       "      <td>Action, Adventure, Drama</td>\n",
       "      <td>9.2</td>\n",
       "      <td>2,174,821</td>\n",
       "    </tr>\n",
       "    <tr>\n",
       "      <th>1</th>\n",
       "      <td>Stranger Things</td>\n",
       "      <td>(2016–2024)</td>\n",
       "      <td>Drama, Fantasy, Horror</td>\n",
       "      <td>8.7</td>\n",
       "      <td>1,252,525</td>\n",
       "    </tr>\n",
       "    <tr>\n",
       "      <th>2</th>\n",
       "      <td>The Walking Dead</td>\n",
       "      <td>(2010–2022)</td>\n",
       "      <td>Drama, Horror, Thriller</td>\n",
       "      <td>8.1</td>\n",
       "      <td>1,033,004</td>\n",
       "    </tr>\n",
       "    <tr>\n",
       "      <th>3</th>\n",
       "      <td>13 Reasons Why</td>\n",
       "      <td>(2017–2020)</td>\n",
       "      <td>Drama, Mystery, Thriller</td>\n",
       "      <td>7.5</td>\n",
       "      <td>303,732</td>\n",
       "    </tr>\n",
       "    <tr>\n",
       "      <th>4</th>\n",
       "      <td>The 100</td>\n",
       "      <td>(2014–2020)</td>\n",
       "      <td>Drama, Mystery, Sci-Fi</td>\n",
       "      <td>7.6</td>\n",
       "      <td>262,868</td>\n",
       "    </tr>\n",
       "    <tr>\n",
       "      <th>...</th>\n",
       "      <td>...</td>\n",
       "      <td>...</td>\n",
       "      <td>...</td>\n",
       "      <td>...</td>\n",
       "      <td>...</td>\n",
       "    </tr>\n",
       "    <tr>\n",
       "      <th>95</th>\n",
       "      <td>Reign</td>\n",
       "      <td>(2013–2017)</td>\n",
       "      <td>Drama</td>\n",
       "      <td>7.4</td>\n",
       "      <td>51,990</td>\n",
       "    </tr>\n",
       "    <tr>\n",
       "      <th>96</th>\n",
       "      <td>A Series of Unfortunate Events</td>\n",
       "      <td>(2017–2019)</td>\n",
       "      <td>Adventure, Comedy, Drama</td>\n",
       "      <td>7.8</td>\n",
       "      <td>64,015</td>\n",
       "    </tr>\n",
       "    <tr>\n",
       "      <th>97</th>\n",
       "      <td>Criminal Minds</td>\n",
       "      <td>(2005– )</td>\n",
       "      <td>Crime, Drama, Mystery</td>\n",
       "      <td>8.1</td>\n",
       "      <td>208,627</td>\n",
       "    </tr>\n",
       "    <tr>\n",
       "      <th>98</th>\n",
       "      <td>Scream: The TV Series</td>\n",
       "      <td>(2015–2019)</td>\n",
       "      <td>Comedy, Crime, Drama</td>\n",
       "      <td>7</td>\n",
       "      <td>43,417</td>\n",
       "    </tr>\n",
       "    <tr>\n",
       "      <th>99</th>\n",
       "      <td>The Haunting of Hill House</td>\n",
       "      <td>(2018)</td>\n",
       "      <td>Drama, Horror, Mystery</td>\n",
       "      <td>8.6</td>\n",
       "      <td>260,438</td>\n",
       "    </tr>\n",
       "  </tbody>\n",
       "</table>\n",
       "<p>100 rows × 5 columns</p>\n",
       "</div>"
      ],
      "text/plain": [
       "                              Name    Year Span                     Genre  \\\n",
       "0                  Game of Thrones  (2011–2019)  Action, Adventure, Drama   \n",
       "1                  Stranger Things  (2016–2024)    Drama, Fantasy, Horror   \n",
       "2                 The Walking Dead  (2010–2022)   Drama, Horror, Thriller   \n",
       "3                   13 Reasons Why  (2017–2020)  Drama, Mystery, Thriller   \n",
       "4                          The 100  (2014–2020)    Drama, Mystery, Sci-Fi   \n",
       "..                             ...          ...                       ...   \n",
       "95                           Reign  (2013–2017)                     Drama   \n",
       "96  A Series of Unfortunate Events  (2017–2019)  Adventure, Comedy, Drama   \n",
       "97                  Criminal Minds     (2005– )     Crime, Drama, Mystery   \n",
       "98           Scream: The TV Series  (2015–2019)      Comedy, Crime, Drama   \n",
       "99      The Haunting of Hill House       (2018)    Drama, Horror, Mystery   \n",
       "\n",
       "   Ratings      Votes  \n",
       "0      9.2  2,174,821  \n",
       "1      8.7  1,252,525  \n",
       "2      8.1  1,033,004  \n",
       "3      7.5    303,732  \n",
       "4      7.6    262,868  \n",
       "..     ...        ...  \n",
       "95     7.4     51,990  \n",
       "96     7.8     64,015  \n",
       "97     8.1    208,627  \n",
       "98       7     43,417  \n",
       "99     8.6    260,438  \n",
       "\n",
       "[100 rows x 5 columns]"
      ]
     },
     "execution_count": 116,
     "metadata": {},
     "output_type": "execute_result"
    }
   ],
   "source": [
    "import pandas as pd\n",
    "df6=pd.DataFrame({'Name':Count[0:100],'Year Span':Year_span[0:100],'Genre':Genre[0:100],'Ratings':Ratings[0:100],'Votes':Vote[0:100]})\n",
    "df6"
   ]
  },
  {
   "cell_type": "markdown",
   "id": "b20eb785",
   "metadata": {},
   "source": [
    "# Q8"
   ]
  },
  {
   "cell_type": "code",
   "execution_count": 117,
   "id": "8460a1d5",
   "metadata": {},
   "outputs": [],
   "source": [
    "driver=webdriver.Chrome(r\"chromedriver.exe\")\n",
    "driver.get(\"https://archive.ics.uci.edu/\")\n"
   ]
  },
  {
   "cell_type": "code",
   "execution_count": 118,
   "id": "0f61585f",
   "metadata": {},
   "outputs": [],
   "source": [
    "datasetclick=driver.find_element(By.XPATH,\"/html/body/div/div[1]/div[1]/main/div/div[1]/div/div/div/a[1]\")\n",
    "datasetclick.click()"
   ]
  },
  {
   "cell_type": "code",
   "execution_count": 121,
   "id": "3e197a04",
   "metadata": {},
   "outputs": [],
   "source": [
    "data_url=[]\n",
    "start=0\n",
    "end=5\n",
    "try:\n",
    "    for page in range(start,end):   \n",
    "        url = driver.find_elements(By.XPATH, '//a[@class=\"link-hover link text-xl font-semibold\"]')\n",
    "        for i in url:\n",
    "            data_url.append(i.get_attribute('href'))\n",
    "except NoSuchElementException :\n",
    "        data_url.append('No url')"
   ]
  },
  {
   "cell_type": "code",
   "execution_count": 122,
   "id": "144beb7c",
   "metadata": {},
   "outputs": [
    {
     "data": {
      "text/plain": [
       "['https://archive.ics.uci.edu/dataset/53/iris',\n",
       " 'https://archive.ics.uci.edu/dataset/45/heart+disease',\n",
       " 'https://archive.ics.uci.edu/dataset/2/adult',\n",
       " 'https://archive.ics.uci.edu/dataset/602/dry+bean+dataset',\n",
       " 'https://archive.ics.uci.edu/dataset/34/diabetes',\n",
       " 'https://archive.ics.uci.edu/dataset/545/rice+cammeo+and+osmancik',\n",
       " 'https://archive.ics.uci.edu/dataset/109/wine',\n",
       " 'https://archive.ics.uci.edu/dataset/19/car+evaluation',\n",
       " 'https://archive.ics.uci.edu/dataset/17/breast+cancer+wisconsin+diagnostic',\n",
       " 'https://archive.ics.uci.edu/dataset/73/mushroom',\n",
       " 'https://archive.ics.uci.edu/dataset/53/iris',\n",
       " 'https://archive.ics.uci.edu/dataset/45/heart+disease',\n",
       " 'https://archive.ics.uci.edu/dataset/2/adult',\n",
       " 'https://archive.ics.uci.edu/dataset/602/dry+bean+dataset',\n",
       " 'https://archive.ics.uci.edu/dataset/34/diabetes',\n",
       " 'https://archive.ics.uci.edu/dataset/545/rice+cammeo+and+osmancik',\n",
       " 'https://archive.ics.uci.edu/dataset/109/wine',\n",
       " 'https://archive.ics.uci.edu/dataset/19/car+evaluation',\n",
       " 'https://archive.ics.uci.edu/dataset/17/breast+cancer+wisconsin+diagnostic',\n",
       " 'https://archive.ics.uci.edu/dataset/73/mushroom',\n",
       " 'https://archive.ics.uci.edu/dataset/53/iris',\n",
       " 'https://archive.ics.uci.edu/dataset/45/heart+disease',\n",
       " 'https://archive.ics.uci.edu/dataset/2/adult',\n",
       " 'https://archive.ics.uci.edu/dataset/602/dry+bean+dataset',\n",
       " 'https://archive.ics.uci.edu/dataset/34/diabetes',\n",
       " 'https://archive.ics.uci.edu/dataset/545/rice+cammeo+and+osmancik',\n",
       " 'https://archive.ics.uci.edu/dataset/109/wine',\n",
       " 'https://archive.ics.uci.edu/dataset/19/car+evaluation',\n",
       " 'https://archive.ics.uci.edu/dataset/17/breast+cancer+wisconsin+diagnostic',\n",
       " 'https://archive.ics.uci.edu/dataset/73/mushroom',\n",
       " 'https://archive.ics.uci.edu/dataset/53/iris',\n",
       " 'https://archive.ics.uci.edu/dataset/45/heart+disease',\n",
       " 'https://archive.ics.uci.edu/dataset/2/adult',\n",
       " 'https://archive.ics.uci.edu/dataset/602/dry+bean+dataset',\n",
       " 'https://archive.ics.uci.edu/dataset/34/diabetes',\n",
       " 'https://archive.ics.uci.edu/dataset/545/rice+cammeo+and+osmancik',\n",
       " 'https://archive.ics.uci.edu/dataset/109/wine',\n",
       " 'https://archive.ics.uci.edu/dataset/19/car+evaluation',\n",
       " 'https://archive.ics.uci.edu/dataset/17/breast+cancer+wisconsin+diagnostic',\n",
       " 'https://archive.ics.uci.edu/dataset/73/mushroom',\n",
       " 'https://archive.ics.uci.edu/dataset/53/iris',\n",
       " 'https://archive.ics.uci.edu/dataset/45/heart+disease',\n",
       " 'https://archive.ics.uci.edu/dataset/2/adult',\n",
       " 'https://archive.ics.uci.edu/dataset/602/dry+bean+dataset',\n",
       " 'https://archive.ics.uci.edu/dataset/34/diabetes',\n",
       " 'https://archive.ics.uci.edu/dataset/545/rice+cammeo+and+osmancik',\n",
       " 'https://archive.ics.uci.edu/dataset/109/wine',\n",
       " 'https://archive.ics.uci.edu/dataset/19/car+evaluation',\n",
       " 'https://archive.ics.uci.edu/dataset/17/breast+cancer+wisconsin+diagnostic',\n",
       " 'https://archive.ics.uci.edu/dataset/73/mushroom']"
      ]
     },
     "execution_count": 122,
     "metadata": {},
     "output_type": "execute_result"
    }
   ],
   "source": [
    "data_url"
   ]
  },
  {
   "cell_type": "code",
   "execution_count": null,
   "id": "1f653466",
   "metadata": {},
   "outputs": [],
   "source": []
  },
  {
   "cell_type": "markdown",
   "id": "68847258",
   "metadata": {},
   "source": [
    "# Q9"
   ]
  },
  {
   "cell_type": "code",
   "execution_count": 124,
   "id": "fd77b4d9",
   "metadata": {},
   "outputs": [],
   "source": [
    "driver=webdriver.Chrome(r\"chromedriver.exe\")\n",
    "driver.get(\"https://www.naukri.com/hr-recruiters-consultants \")\n"
   ]
  },
  {
   "cell_type": "code",
   "execution_count": null,
   "id": "11aba5ed",
   "metadata": {},
   "outputs": [],
   "source": []
  },
  {
   "cell_type": "code",
   "execution_count": null,
   "id": "8c5e191b",
   "metadata": {},
   "outputs": [],
   "source": []
  },
  {
   "cell_type": "code",
   "execution_count": null,
   "id": "f1cad003",
   "metadata": {},
   "outputs": [],
   "source": []
  },
  {
   "cell_type": "code",
   "execution_count": null,
   "id": "9a3f5890",
   "metadata": {},
   "outputs": [],
   "source": []
  },
  {
   "cell_type": "code",
   "execution_count": null,
   "id": "2e89596b",
   "metadata": {},
   "outputs": [],
   "source": []
  },
  {
   "cell_type": "code",
   "execution_count": null,
   "id": "a162f3c9",
   "metadata": {},
   "outputs": [],
   "source": []
  },
  {
   "cell_type": "code",
   "execution_count": null,
   "id": "9d3f6602",
   "metadata": {},
   "outputs": [],
   "source": []
  },
  {
   "cell_type": "code",
   "execution_count": null,
   "id": "e150f528",
   "metadata": {},
   "outputs": [],
   "source": []
  },
  {
   "cell_type": "code",
   "execution_count": null,
   "id": "10e0e930",
   "metadata": {},
   "outputs": [],
   "source": []
  },
  {
   "cell_type": "code",
   "execution_count": null,
   "id": "931fe90e",
   "metadata": {},
   "outputs": [],
   "source": []
  },
  {
   "cell_type": "code",
   "execution_count": null,
   "id": "3c950f16",
   "metadata": {},
   "outputs": [],
   "source": []
  },
  {
   "cell_type": "code",
   "execution_count": null,
   "id": "67e4449e",
   "metadata": {},
   "outputs": [],
   "source": []
  }
 ],
 "metadata": {
  "kernelspec": {
   "display_name": "Python 3 (ipykernel)",
   "language": "python",
   "name": "python3"
  },
  "language_info": {
   "codemirror_mode": {
    "name": "ipython",
    "version": 3
   },
   "file_extension": ".py",
   "mimetype": "text/x-python",
   "name": "python",
   "nbconvert_exporter": "python",
   "pygments_lexer": "ipython3",
   "version": "3.9.13"
  }
 },
 "nbformat": 4,
 "nbformat_minor": 5
}

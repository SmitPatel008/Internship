{
 "cells": [
  {
   "cell_type": "markdown",
   "id": "4c36dbe1",
   "metadata": {},
   "source": [
    "# Question 1- Write a Python program to check that a string contains only a certain set of characters (in this case a-z, A-Z and 0-9)."
   ]
  },
  {
   "cell_type": "code",
   "execution_count": 4,
   "id": "1b00660a",
   "metadata": {},
   "outputs": [],
   "source": [
    "from IPython.utils.text import string\n",
    "import regex as re"
   ]
  },
  {
   "cell_type": "code",
   "execution_count": 65,
   "id": "6e4dbbc3",
   "metadata": {},
   "outputs": [
    {
     "name": "stdout",
     "output_type": "stream",
     "text": [
      "['Sunil', 'chetri', 'scored', '3', 'goals', 'in', 'his', '50th', 'match']\n"
     ]
    }
   ],
   "source": [
    "txt= \"Sunil chetri scored 3 goals in his 50th match\"\n",
    "pattern=\"[a-zA-Z0-9]+\"\n",
    "x=re.findall(pattern,txt)\n",
    "print(x)"
   ]
  },
  {
   "cell_type": "markdown",
   "id": "85f4220f",
   "metadata": {},
   "source": [
    "# Question 2- Create a function in python that matches a string that has an a followed by zero or more b's"
   ]
  },
  {
   "cell_type": "code",
   "execution_count": 253,
   "id": "8c1a3e39",
   "metadata": {},
   "outputs": [
    {
     "name": "stdout",
     "output_type": "stream",
     "text": [
      "['abb', 'a', 'a', 'a', 'ab', 'a', 'ab', 'a', 'abbb']\n"
     ]
    }
   ],
   "source": [
    "txt= \"abb a c   bc na a whwiw aba ab a abbbs ejp\"\n",
    "pattern=r\"a+b*\"\n",
    "x=re.findall(pattern,txt)\n",
    "print(x)"
   ]
  },
  {
   "cell_type": "markdown",
   "id": "7dae6084",
   "metadata": {},
   "source": [
    "# Question 3-  Create a function in python that matches a string that has an a followed by one or more b's"
   ]
  },
  {
   "cell_type": "code",
   "execution_count": 252,
   "id": "f5721371",
   "metadata": {},
   "outputs": [
    {
     "name": "stdout",
     "output_type": "stream",
     "text": [
      "['ab', 'abb', 'abbbb']\n"
     ]
    }
   ],
   "source": [
    "txt= \"vsavn ab abb abbbbs a av oq\"\n",
    "x=re.findall(r\"ab+\",txt)\n",
    "print(x)"
   ]
  },
  {
   "cell_type": "markdown",
   "id": "1f89005f",
   "metadata": {},
   "source": [
    "# Question 4- Create a function in Python and use RegEx that matches a string that has an a followed by zero or one 'b'."
   ]
  },
  {
   "cell_type": "code",
   "execution_count": 255,
   "id": "760322de",
   "metadata": {},
   "outputs": [
    {
     "name": "stdout",
     "output_type": "stream",
     "text": [
      "['ab', 'a', 'ab', 'a', 'a', 'a', 'ab', 'ab', 'ab', 'ab']\n"
     ]
    }
   ],
   "source": [
    "txt= \"abswehyf a ab a aa  abb abbb abbbbewbfuw abbb ejj w w \"\n",
    "x=re.findall(r\"ab?\",txt)\n",
    "print(x)"
   ]
  },
  {
   "cell_type": "markdown",
   "id": "bb6c58a4",
   "metadata": {},
   "source": [
    "# Question 5- Write a Python program that matches a string that has an a followed by three 'b'."
   ]
  },
  {
   "cell_type": "code",
   "execution_count": 257,
   "id": "4d127700",
   "metadata": {},
   "outputs": [
    {
     "name": "stdout",
     "output_type": "stream",
     "text": [
      "['abbb', 'abbb', 'abbb']\n"
     ]
    }
   ],
   "source": [
    "txt= \"abswehyf a ab a aa  abb abbb abbbbewbfuw abbb ejj w w \"\n",
    "x=re.findall(r\"abbb\",txt)\n",
    "print(x)"
   ]
  },
  {
   "cell_type": "markdown",
   "id": "3959e672",
   "metadata": {},
   "source": [
    "# Question 6- Write a regular expression in Python to split a string into uppercase letters.\n",
    "\n"
   ]
  },
  {
   "cell_type": "code",
   "execution_count": 301,
   "id": "eb6a7675",
   "metadata": {},
   "outputs": [
    {
     "name": "stdout",
     "output_type": "stream",
     "text": [
      "['Importance', 'Of', 'Regular', 'Expressions', 'In', 'Python']\n"
     ]
    }
   ],
   "source": [
    "txt=\"ImportanceOfRegularExpressionsInPython\"\n",
    "x=re.findall(r\"[A-Z][a-z]*\", txt)\n",
    "print(x)"
   ]
  },
  {
   "cell_type": "markdown",
   "id": "e1b885fb",
   "metadata": {},
   "source": [
    "# Question 7- Write a Python program that matches a string that has an a followed by two to three 'b'."
   ]
  },
  {
   "cell_type": "code",
   "execution_count": 320,
   "id": "27ded7e3",
   "metadata": {},
   "outputs": [
    {
     "name": "stdout",
     "output_type": "stream",
     "text": [
      "['abb', 'abbb', 'abbb', 'abbb', 'abb']\n"
     ]
    }
   ],
   "source": [
    "txt= \"abswehyf a ab a aa  abb abbb abbbbewbfuw abbb ejj w aaabb \"\n",
    "x=re.findall(r\"ab{2,3}\",txt)\n",
    "print(x)"
   ]
  },
  {
   "cell_type": "markdown",
   "id": "427caa46",
   "metadata": {},
   "source": [
    "# Question 8- Write a Python program to find sequences of lowercase letters joined with a underscore."
   ]
  },
  {
   "cell_type": "code",
   "execution_count": 344,
   "id": "a56cfe4a",
   "metadata": {},
   "outputs": [
    {
     "name": "stdout",
     "output_type": "stream",
     "text": [
      "['narendra_modi', 'best_prime', 'compare_to', 'all_prime', 'ministers_in']\n"
     ]
    }
   ],
   "source": [
    "txt= \"narendra_modi_is best_prime_minister compare_to_all_prime_ministers_in_world\"\n",
    "x=re.findall(r\"[a-z]+_[a-z]+\",txt)\n",
    "print(x)"
   ]
  },
  {
   "cell_type": "markdown",
   "id": "67d09b2e",
   "metadata": {},
   "source": [
    "# Question 9- Write a Python program that matches a string that has an 'a' followed by anything, ending in 'b'."
   ]
  },
  {
   "cell_type": "code",
   "execution_count": 375,
   "id": "f134b2dd",
   "metadata": {},
   "outputs": [
    {
     "name": "stdout",
     "output_type": "stream",
     "text": [
      "['abb aba dfdf ad moa  abbbbb abss asssb ab']\n"
     ]
    }
   ],
   "source": [
    "txt= \"abb aba dfdf ad moa  abbbbb abss asssb ab\"\n",
    "x=re.findall(r'a.+$b*',txt) \n",
    "print(x)"
   ]
  },
  {
   "cell_type": "code",
   "execution_count": 380,
   "id": "d8bfa14b",
   "metadata": {},
   "outputs": [
    {
     "name": "stdout",
     "output_type": "stream",
     "text": [
      "['abb aba ad abbbbb asbb asssb ab']\n"
     ]
    }
   ],
   "source": [
    "txt= \"abb aba ad abbbbb asbb asssb ab\"\n",
    "x=re.findall(r'a.*b$',txt) \n",
    "print(x)"
   ]
  },
  {
   "cell_type": "markdown",
   "id": "5ae7d144",
   "metadata": {},
   "source": [
    "# Question 10- Write a Python program that matches a word at the beginning of a string."
   ]
  },
  {
   "cell_type": "code",
   "execution_count": 6,
   "id": "74b2aafe",
   "metadata": {},
   "outputs": [
    {
     "name": "stdout",
     "output_type": "stream",
     "text": [
      "<regex.Match object; span=(0, 7), match='acjnvqv'>\n"
     ]
    }
   ],
   "source": [
    "txt= \"acjnvqv  w kak kk ka kskl   ls as s s 60f  s6fd fs 60 ss \"\n",
    "x=re.match(r\"^\\w+\",txt) \n",
    "print(x)"
   ]
  },
  {
   "cell_type": "markdown",
   "id": "51f4699f",
   "metadata": {},
   "source": [
    "# Question 11- Write a Python program to match a string that contains only upper and lowercase letters, numbers, and underscores."
   ]
  },
  {
   "cell_type": "code",
   "execution_count": 111,
   "id": "acd5f74f",
   "metadata": {},
   "outputs": [
    {
     "name": "stdout",
     "output_type": "stream",
     "text": [
      "['Th7_', 'Ns5_']\n"
     ]
    }
   ],
   "source": [
    "txt= \"Th7_ VATTAX yah_sav Ns5_ 93asvlm av\"\n",
    "x=re.findall(\"[A-Z][a-z][0-9]_\",txt) \n",
    "print(x)"
   ]
  },
  {
   "cell_type": "markdown",
   "id": "c15acf36",
   "metadata": {},
   "source": [
    "# Question 12- Write a Python program where a string will start with a specific number. "
   ]
  },
  {
   "cell_type": "code",
   "execution_count": 136,
   "id": "1372dd84",
   "metadata": {},
   "outputs": [
    {
     "name": "stdout",
     "output_type": "stream",
     "text": [
      "['5H7_']\n"
     ]
    }
   ],
   "source": [
    "txt= \"5H7_ VATTAX yah_sav Ns5_ 93asvlm av\"\n",
    "x=re.findall(r\"^5\\w+\",txt) \n",
    "print(x)"
   ]
  },
  {
   "cell_type": "markdown",
   "id": "066b1914",
   "metadata": {},
   "source": [
    "# Question 13- Write a Python program to remove leading zeros from an IP address"
   ]
  },
  {
   "cell_type": "code",
   "execution_count": 139,
   "id": "338a6f22",
   "metadata": {},
   "outputs": [
    {
     "name": "stdout",
     "output_type": "stream",
     "text": [
      "192.168.8.6\n"
     ]
    }
   ],
   "source": [
    "txt= \"192.168.008.006\" \n",
    "x=re.sub(r\"0\",\"\",txt) \n",
    "print(x)"
   ]
  },
  {
   "cell_type": "markdown",
   "id": "fe139e80",
   "metadata": {},
   "source": [
    "# Question 14- Write a regular expression in python to match a date string in the form of Month name followed by day number and year stored in a text file."
   ]
  },
  {
   "cell_type": "code",
   "execution_count": 173,
   "id": "9350bdd0",
   "metadata": {},
   "outputs": [
    {
     "ename": "SyntaxError",
     "evalue": "EOL while scanning string literal (4155456473.py, line 1)",
     "output_type": "error",
     "traceback": [
      "\u001b[1;36m  File \u001b[1;32m\"C:\\Users\\Admin\\AppData\\Local\\Temp\\ipykernel_19304\\4155456473.py\"\u001b[1;36m, line \u001b[1;32m1\u001b[0m\n\u001b[1;33m    txt='On August 15th 1947 that India was declared independent from British colonialism, and the reins of control were handed over to the leaders of the Country’\u001b[0m\n\u001b[1;37m                                                                                                                                                                   ^\u001b[0m\n\u001b[1;31mSyntaxError\u001b[0m\u001b[1;31m:\u001b[0m EOL while scanning string literal\n"
     ]
    }
   ],
   "source": [
    "txt='On August 15th 1947 that India was declared independent from British colonialism, and the reins of control were handed over to the leaders of the Country’\n",
    "x=re.match(r'^[A-Za-z]{3,}\\s\\d{1,2}[a-z]\\s\\d{4}',txt) ,\n",
    "print(x)"
   ]
  },
  {
   "cell_type": "markdown",
   "id": "a80e7220",
   "metadata": {},
   "source": [
    "# Question 15- Write a Python program to search some literals strings in a string. Go to the editor"
   ]
  },
  {
   "cell_type": "code",
   "execution_count": 178,
   "id": "23f4f245",
   "metadata": {},
   "outputs": [
    {
     "name": "stdout",
     "output_type": "stream",
     "text": [
      "'fox' found in the text.\n",
      "'dog' found in the text.\n",
      "'horse' not found in the text.\n"
     ]
    }
   ],
   "source": [
    "txt = 'The quick brown fox jumps over the lazy dog.'\n",
    "search_word = ['fox', 'dog', 'horse']\n",
    "\n",
    "for word in search_word:\n",
    "    if re.search(word, txt):\n",
    "        print(f\"'{word}' found in the text.\")\n",
    "    else:\n",
    "        print(f\"'{word}' not found in the text.\")"
   ]
  },
  {
   "cell_type": "markdown",
   "id": "17ef655b",
   "metadata": {},
   "source": [
    "# Question 16- Write a Python program to search a literals string in a string and also find the location within the original string where the pattern occurs"
   ]
  },
  {
   "cell_type": "code",
   "execution_count": 192,
   "id": "0fedadf6",
   "metadata": {},
   "outputs": [
    {
     "name": "stdout",
     "output_type": "stream",
     "text": [
      "'fox' found in the text.\n",
      "<regex.Match object; span=(16, 19), match='fox'>\n"
     ]
    }
   ],
   "source": [
    "txt = 'The quick brown fox jumps over the lazy dog.'\n",
    "search_word = ['fox']\n",
    "\n",
    "for word in search_word:\n",
    "    if re.search(word, txt):\n",
    "        print(f\"'{word}' found in the text.\")\n",
    "    else:\n",
    "        print(f\"'{word}' not found in the text.\")\n",
    "x=re.search(\"fox\",txt) \n",
    "print(x)"
   ]
  },
  {
   "cell_type": "markdown",
   "id": "ecaff83a",
   "metadata": {},
   "source": [
    "# Question 17- Write a Python program to find the substrings within a string."
   ]
  },
  {
   "cell_type": "code",
   "execution_count": 196,
   "id": "12b94ac1",
   "metadata": {},
   "outputs": [
    {
     "name": "stdout",
     "output_type": "stream",
     "text": [
      "['exercises', 'exercises', 'exercises']\n"
     ]
    }
   ],
   "source": [
    "text = 'Python exercises, PHP exercises, C# exercises'\n",
    "pattern = 'exercises'\n",
    "matches = re.findall(pattern, text)\n",
    "print(matches)"
   ]
  },
  {
   "cell_type": "markdown",
   "id": "bf6ac3de",
   "metadata": {},
   "source": [
    "# Question 18- Write a Python program to find the occurrence and position of the substrings within a string."
   ]
  },
  {
   "cell_type": "code",
   "execution_count": 202,
   "id": "7a6ab81f",
   "metadata": {},
   "outputs": [
    {
     "name": "stdout",
     "output_type": "stream",
     "text": [
      "['exercises', 'exercises', 'exercises']\n",
      "<regex.Match object; span=(7, 16), match='exercises'>\n"
     ]
    }
   ],
   "source": [
    "txt = 'Python exercises, PHP exercises, C# exercises'\n",
    "pattern = 'exercises'\n",
    "matches = re.findall(pattern, txt)\n",
    "print(matches)\n",
    "x=re.search(\"exercises\",txt)\n",
    "print(x)"
   ]
  },
  {
   "cell_type": "markdown",
   "id": "96863a83",
   "metadata": {},
   "source": [
    "# Question 19- Write a Python program to convert a date of yyyy-mm-dd format to dd-mm-yyyy format."
   ]
  },
  {
   "cell_type": "code",
   "execution_count": 215,
   "id": "14367dc3",
   "metadata": {},
   "outputs": [
    {
     "name": "stdout",
     "output_type": "stream",
     "text": [
      "08-08-1998\n"
     ]
    }
   ],
   "source": [
    "txt = '1998-08-08'\n",
    "x= re.sub(r'(\\d{4})-(\\d{2})-(\\d{2})', r'\\3-\\2-\\1', txt)\n",
    "print(x)"
   ]
  },
  {
   "cell_type": "markdown",
   "id": "b881472c",
   "metadata": {},
   "source": [
    "# Question 20- Write a Python program to find all words starting with 'a' or 'e' in a given string."
   ]
  },
  {
   "cell_type": "code",
   "execution_count": 216,
   "id": "bc8414b8",
   "metadata": {},
   "outputs": [
    {
     "name": "stdout",
     "output_type": "stream",
     "text": [
      "['abcd', 'abce', 'ebay', 'ace']\n"
     ]
    }
   ],
   "source": [
    "txt = 'abcd cfe abce ebay ace cdr fgh'\n",
    "x= re.findall(r'\\b[a|e]\\w*', txt)\n",
    "print(x)"
   ]
  },
  {
   "cell_type": "markdown",
   "id": "c1ca41b4",
   "metadata": {},
   "source": [
    "# Question 21- Write a Python program to separate and print the numbers and their position of a given string."
   ]
  },
  {
   "cell_type": "code",
   "execution_count": 221,
   "id": "70901e67",
   "metadata": {},
   "outputs": [
    {
     "name": "stdout",
     "output_type": "stream",
     "text": [
      "Numbers and their positions:\n",
      "Number: 65659, Position: 15\n",
      "Number: 95898, Position: 25\n",
      "Number: 629, Position: 34\n",
      "Number: 9, Position: 19\n"
     ]
    }
   ],
   "source": [
    "text = 'ghi sf wvwvwvw 65659 e e 95898e e 629b9 qfc wf'\n",
    "numbers = re.findall(r'\\d+', text)\n",
    "\n",
    "if numbers:\n",
    "    print(\"Numbers and their positions:\")\n",
    "    for number in numbers:\n",
    "        position = text.index(number)\n",
    "        print(f\"Number: {number}, Position: {position}\")\n",
    "else:\n",
    "    print(\"No numbers found.\")"
   ]
  },
  {
   "cell_type": "markdown",
   "id": "d9b6ed65",
   "metadata": {},
   "source": [
    "# Question 22- Write a regular expression in python program to extract maximum numeric value from a string"
   ]
  },
  {
   "cell_type": "code",
   "execution_count": 222,
   "id": "84755f7e",
   "metadata": {},
   "outputs": [
    {
     "name": "stdout",
     "output_type": "stream",
     "text": [
      "['65', '45', '885']\n"
     ]
    }
   ],
   "source": [
    "txt = 'avu h q 65 w ufuiwg 45 s 885'\n",
    "x= re.findall(r'\\d+', txt)\n",
    "print(x)"
   ]
  },
  {
   "cell_type": "code",
   "execution_count": 223,
   "id": "e8a0e60b",
   "metadata": {},
   "outputs": [
    {
     "data": {
      "text/plain": [
       "'885'"
      ]
     },
     "execution_count": 223,
     "metadata": {},
     "output_type": "execute_result"
    }
   ],
   "source": [
    "max(x)"
   ]
  },
  {
   "cell_type": "markdown",
   "id": "53377571",
   "metadata": {},
   "source": [
    "# Question 23- Write a Regex in Python to put spaces between words starting with capital letters"
   ]
  },
  {
   "cell_type": "code",
   "execution_count": 245,
   "id": "67bdd6a3",
   "metadata": {},
   "outputs": [
    {
     "name": "stdout",
     "output_type": "stream",
     "text": [
      "['', 'India', '', 'Is', '', 'Fastest', '', 'Growing', '', 'Country', '', 'Of', '', 'World', '']\n"
     ]
    }
   ],
   "source": [
    "txt = 'IndiaIsFastestGrowingCountryOfWorld'\n",
    "x= re.split(r\"([A-Z][a-z]+)\", txt)\n",
    "print(x)"
   ]
  },
  {
   "cell_type": "markdown",
   "id": "d8160505",
   "metadata": {},
   "source": [
    "# Question 24- Python regex to find sequences of one upper case letter followed by lower case letters"
   ]
  },
  {
   "cell_type": "code",
   "execution_count": 246,
   "id": "203ad5bf",
   "metadata": {},
   "outputs": [
    {
     "name": "stdout",
     "output_type": "stream",
     "text": [
      "['India', 'Is', 'Fastest', 'Growing', 'Country', 'Of', 'World']\n"
     ]
    }
   ],
   "source": [
    "txt = 'IndiaIsFastestGrowingCountryOfWorld'\n",
    "x= re.findall(r\"[A-Z][a-z]*\", txt)\n",
    "print(x)"
   ]
  },
  {
   "cell_type": "markdown",
   "id": "415857f4",
   "metadata": {},
   "source": [
    "# Question 25- Write a Python program to remove duplicate words from Sentence using Regular Expression"
   ]
  },
  {
   "cell_type": "code",
   "execution_count": 260,
   "id": "1e854ddc",
   "metadata": {},
   "outputs": [
    {
     "name": "stdout",
     "output_type": "stream",
     "text": [
      "Samir hello, Good Morning\n"
     ]
    }
   ],
   "source": [
    "txt = 'Samir hello hello, Good Morning'\n",
    "word=r\"\\b(\\w+)(?:\\W+\\1\\b)+\"\n",
    "\n",
    "x=re.sub(word,r'\\1',txt)\n",
    "print(x)"
   ]
  },
  {
   "cell_type": "markdown",
   "id": "5c571dd9",
   "metadata": {},
   "source": [
    "# Question 26-  Write a python program using RegEx to accept string ending with alphanumeric character."
   ]
  },
  {
   "cell_type": "code",
   "execution_count": 261,
   "id": "103b9317",
   "metadata": {},
   "outputs": [
    {
     "name": "stdout",
     "output_type": "stream",
     "text": [
      "<regex.Match object; span=(12, 13), match='6'>\n"
     ]
    }
   ],
   "source": [
    "txt = 'avvwavwev5656'\n",
    "x= re.search(r'\\w$', txt)\n",
    "print(x)"
   ]
  },
  {
   "cell_type": "markdown",
   "id": "fb631e35",
   "metadata": {},
   "source": [
    "# Question 27-Write a python program using RegEx to extract the hashtags.\n"
   ]
  },
  {
   "cell_type": "code",
   "execution_count": 262,
   "id": "859ebb34",
   "metadata": {},
   "outputs": [
    {
     "name": "stdout",
     "output_type": "stream",
     "text": [
      "['#Doltiwal', '#xyzabc', '#Demonetization']\n"
     ]
    }
   ],
   "source": [
    "sample_text = 'RT @kapil_kausik: #Doltiwal I mean #xyzabc is \"hurt\" by #Demonetization as the same has rendered USELESS <ed><U+00A0><U+00BD><ed><U+00B1><U+0089> \"acquired funds\" No wo'\n",
    "x = re.findall(r'#\\w+', sample_text)\n",
    "print(x)"
   ]
  },
  {
   "cell_type": "markdown",
   "id": "958c6515",
   "metadata": {},
   "source": [
    "# Question 28- Write a python program using RegEx to remove <U+..> like symbols"
   ]
  },
  {
   "cell_type": "code",
   "execution_count": 263,
   "id": "a1ac9ba7",
   "metadata": {
    "scrolled": true
   },
   "outputs": [
    {
     "name": "stdout",
     "output_type": "stream",
     "text": [
      "@Jags123456 Bharat band on 28??<ed><ed>Those who are protesting #demonetization are all different party leaders\n"
     ]
    }
   ],
   "source": [
    "txt = '@Jags123456 Bharat band on 28??<ed><U+00A0><U+00BD><ed><U+00B8><U+0082>Those who are protesting #demonetization are all different party leaders'\n",
    "x = re.sub(r'<U\\+[\\w]+>', '', txt)\n",
    "\n",
    "print(x)"
   ]
  },
  {
   "cell_type": "markdown",
   "id": "bb22d5d5",
   "metadata": {},
   "source": [
    "# Question 29- Write a python program to extract dates from the text stored in the text file."
   ]
  },
  {
   "cell_type": "code",
   "execution_count": 269,
   "id": "8bc46365",
   "metadata": {
    "scrolled": true
   },
   "outputs": [
    {
     "name": "stdout",
     "output_type": "stream",
     "text": [
      "['12-09-1992', '15-12-1999']\n"
     ]
    }
   ],
   "source": [
    "sample_text = 'Ron was born on 12-09-1992 and he was admitted to school 15-12-1999.'\n",
    "x = re.findall(r'\\d+-\\d+-\\d+', sample_text)\n",
    "print(x)"
   ]
  },
  {
   "cell_type": "markdown",
   "id": "93bf13a1",
   "metadata": {},
   "source": [
    "# Question 30- Write a Python program to replace all occurrences of a space, comma, or dot with a colon"
   ]
  },
  {
   "cell_type": "code",
   "execution_count": 274,
   "id": "4ffe30e0",
   "metadata": {},
   "outputs": [
    {
     "name": "stdout",
     "output_type": "stream",
     "text": [
      "Python:Exercises::PHP:exercises:\n"
     ]
    }
   ],
   "source": [
    "sample_text = 'Python Exercises, PHP exercises.'\n",
    "x = re.sub('[ ,.]', ':', sample_text)\n",
    "print(x)"
   ]
  },
  {
   "cell_type": "code",
   "execution_count": null,
   "id": "b6a29305",
   "metadata": {},
   "outputs": [],
   "source": []
  }
 ],
 "metadata": {
  "kernelspec": {
   "display_name": "Python 3 (ipykernel)",
   "language": "python",
   "name": "python3"
  },
  "language_info": {
   "codemirror_mode": {
    "name": "ipython",
    "version": 3
   },
   "file_extension": ".py",
   "mimetype": "text/x-python",
   "name": "python",
   "nbconvert_exporter": "python",
   "pygments_lexer": "ipython3",
   "version": "3.9.13"
  }
 },
 "nbformat": 4,
 "nbformat_minor": 5
}
